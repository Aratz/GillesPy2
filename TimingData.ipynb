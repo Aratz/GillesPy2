{
 "cells": [
  {
   "cell_type": "markdown",
   "metadata": {},
   "source": [
    "# Timing Data"
   ]
  },
  {
   "cell_type": "code",
   "execution_count": null,
   "metadata": {
    "collapsed": false
   },
   "outputs": [],
   "source": [
    "import sys\n",
    "import statistics\n",
    "import numpy\n",
    "from itertools import product\n",
    "from timeit import default_timer as timer\n",
    "import os\n",
    "sys.path.append(os.path.abspath(os.path.join(os.getcwd(), os.pardir)))\n",
    "print(sys.path)\n",
    "from tqdm import tqdm\n",
    "import gillespy2\n",
    "from scipy import stats"
   ]
  },
  {
   "cell_type": "code",
   "execution_count": null,
   "metadata": {
    "collapsed": false
   },
   "outputs": [],
   "source": [
    "from gillespy2.basic_ssa_solver import BasicSSASolver\n",
    "from gillespy2.ssa_c_solver import SSACSolver\n",
    "from gillespy2.basic_root_solver import BasicRootSolver\n",
    "from gillespy2.optimized_ssa_solver import OptimizedSSASolver\n",
    "from gillespy2 import StochKitSolver\n",
    "from gillespy2.example_models import *\n",
    "import pickle\n",
    "StochKitSolver.name = 'StochKitSolver'\n",
    "SSASolver = OptimizedSSASolver(use_cython = False)\n",
    "CythonSSASolver = OptimizedSSASolver(use_cython=True)\n",
    "assert CythonSSASolver.name == 'CythonSSASolver'\n",
    "modelList = [Example(), Trichloroethylene(), MichaelisMenten(), Schlogl()]\n",
    "solverList = [SSASolver, CythonSSASolver, StochKitSolver, SSACSolver]"
   ]
  },
  {
   "cell_type": "code",
   "execution_count": null,
   "metadata": {
    "collapsed": false
   },
   "outputs": [],
   "source": [
    "\n",
    "timing_data = {}\n",
    "\n",
    "\n",
    "#For some of the slower solvers, we are not worried about some of\n",
    "#the minor fluctuations in runtime compared to the StochKit and C based solvers.\n",
    "def number_trials(solver_name, trajectories):\n",
    "    if solver_name in ['CythonSSASolver','StochKitSolver','SSACSolver'] or trajectories <= 256:\n",
    "        return 30\n",
    "    return 1\n",
    "\n",
    "\n",
    "for model in modelList:\n",
    "    timing_data[model.name] = {}\n",
    "    \n",
    "for model, solver in product(modelList, solverList):\n",
    "    if solver == SSACSolver:\n",
    "        solver = SSACSolver(model)\n",
    "    timing_data[model.name][solver.name] = []\n",
    "    for traj in range(12):\n",
    "        medianList = []\n",
    "        exterior_stats = []\n",
    "        trials = number_trials(solver.name, 2 ** traj)\n",
    "        for i in tqdm(range(trials), desc = f'Model: {model.name}, Solver: {solver.name}, Trajectories: {2**traj}'):\n",
    "            start = timer()\n",
    "            test_results = model.run(solver=solver, number_of_trajectories=2**traj)\n",
    "            stop = timer()\n",
    "            medianList.append(stop-start)\n",
    "        median = statistics.median(medianList)\n",
    "        mean = statistics.mean(medianList)\n",
    "        timing_data[model.name][solver.name].append((median, mean, trials))\n",
    "        with open('timing_data.pkl', 'wb') as f:\n",
    "            pickle.dump(timing_data, f)"
   ]
  },
  {
   "cell_type": "code",
   "execution_count": null,
   "metadata": {
    "collapsed": false
   },
   "outputs": [],
   "source": [
    "print(timing_data)"
   ]
  },
  {
   "cell_type": "code",
   "execution_count": null,
   "metadata": {
    "collapsed": false
   },
   "outputs": [],
   "source": [
    "#Ideally, we can run the timed tests once and save the results for later in a .pkl file\n",
    "import pickle\n",
    "timing_data = None\n",
    "with open('timing_data.pkl', 'rb') as f:\n",
    "    timing_data = pickle.load(f)"
   ]
  },
  {
   "cell_type": "code",
   "execution_count": null,
   "metadata": {
    "collapsed": false
   },
   "outputs": [],
   "source": [
    "import matplotlib.pyplot as plt\n",
    "%matplotlib inline\n",
    "trajs = [2 ** i for i in range(12)]\n",
    "line_style = {\n",
    "    'StochKitSolver' : 'r*-',\n",
    "    'SSACSolver' : 'g*-',\n",
    "    'CythonSSASolver' : 'b*-',\n",
    "    'OptimizedSSASolver' : 'k*-'    \n",
    "}\n",
    "\n",
    "\n",
    "for model in modelList:\n",
    "    plt.figure()\n",
    "    plt.title('{} Timing Results'.format(model.name))\n",
    "    plt.xlabel('Trajectories')\n",
    "    plt.ylabel('Seconds')\n",
    "    for solver in solverList:\n",
    "        if False and solver.name == 'OptimizedSSASolver':\n",
    "            continue\n",
    "        times = [timing_data[model.name][solver.name][i][0] for i in range(len(timing_data[model.name][solver.name]))]\n",
    "        plt.plot(trajs, times, line_style[solver.name], label='{}'.format(solver.name))\n",
    "    plt.legend(loc='best')\n",
    "    plt.savefig('{}TimingResults.png'.format(model.name))"
   ]
  },
  {
   "cell_type": "code",
   "execution_count": null,
   "metadata": {
    "collapsed": false
   },
   "outputs": [],
   "source": [
    "import matplotlib.pyplot as plt\n",
    "import math\n",
    "%matplotlib inline\n",
    "trajs = [2 ** i for i in range(12)]\n",
    "for model in modelList:\n",
    "    plt.figure()\n",
    "    plt.title('{} Timing Results'.format(model.name))\n",
    "    plt.xlabel('Trajectories')\n",
    "    plt.ylabel('Log(Seconds)')\n",
    "    for solver in solverList:\n",
    "        times = [math.log(timing_data[model.name][solver.name][i][0]) for i in range(len(timing_data[model.name][solver.name]))]\n",
    "        plt.plot(trajs, times, line_style[solver.name], label='{}'.format(solver.name))\n",
    "    plt.legend(loc='best')\n",
    "    plt.savefig('{}LogTimingResults.png'.format(model.name))"
   ]
  },
  {
   "cell_type": "code",
   "execution_count": null,
   "metadata": {
    "collapsed": false
   },
   "outputs": [],
   "source": [
    "import matplotlib.pyplot as plt\n",
    "%matplotlib inline\n",
    "trajs = [2 ** i for i in range(12)]\n",
    "line_style = {\n",
    "    'StochKitSolver' : 'r*-',\n",
    "    'SSACSolver' : 'g*-',\n",
    "    'CythonSSASolver' : 'b*-',\n",
    "    'OptimizedSSASolver' : 'k*-'    \n",
    "}\n",
    "\n",
    "\n",
    "for model in modelList:\n",
    "    plt.figure()\n",
    "    plt.title('{} Speed Up Results'.format(model.name))\n",
    "    plt.xlabel('Trajectories')\n",
    "    plt.ylabel('Relative Speed Against Python Solver')\n",
    "    for solver in solverList:\n",
    "        if solver.name == 'OptimizedSSASolver':\n",
    "            continue\n",
    "        times = [timing_data[model.name]['OptimizedSSASolver'][i][0]/timing_data[model.name][solver.name][i][0] for i in range(len(timing_data[model.name][solver.name]))]\n",
    "        plt.plot(trajs, times, line_style[solver.name], label='{}'.format(solver.name))\n",
    "    plt.legend(loc='best')\n",
    "    plt.savefig('{}SpeedupResults.png'.format(model.name))"
   ]
  },
  {
   "cell_type": "code",
   "execution_count": null,
   "metadata": {
    "collapsed": false
   },
   "outputs": [],
   "source": [
    "import matplotlib.pyplot as plt\n",
    "%matplotlib inline\n",
    "trajs = [2 ** i for i in range(12)]\n",
    "line_style = {\n",
    "    'StochKitSolver' : 'r*-',\n",
    "    'SSACSolver' : 'g*-',\n",
    "    'CythonSSASolver' : 'b*-',\n",
    "    'OptimizedSSASolver' : 'k*-'    \n",
    "}\n",
    "\n",
    "\n",
    "for model in modelList:\n",
    "    plt.figure()\n",
    "    plt.title('{} Timing Results'.format(model.name))\n",
    "    plt.xlabel('Trajectories')\n",
    "    plt.ylabel('Seconds')\n",
    "    for solver in solverList:\n",
    "        if solver.name == 'OptimizedSSASolver':\n",
    "            continue\n",
    "        times = [timing_data[model.name][solver.name][i][0] for i in range(len(timing_data[model.name][solver.name]))]\n",
    "        plt.plot(trajs, times, line_style[solver.name], label='{}'.format(solver.name))\n",
    "    plt.legend(loc='best')\n",
    "    plt.savefig('{}TimingResults.png'.format(model.name))"
   ]
  },
  {
   "cell_type": "code",
   "execution_count": null,
   "metadata": {
    "collapsed": true
   },
   "outputs": [],
   "source": []
  }
 ],
 "metadata": {
  "kernelspec": {
   "display_name": "Python 3",
   "language": "python",
   "name": "python3"
  },
  "language_info": {
   "codemirror_mode": {
    "name": "ipython",
    "version": 3
   },
   "file_extension": ".py",
   "mimetype": "text/x-python",
   "name": "python",
   "nbconvert_exporter": "python",
   "pygments_lexer": "ipython3",
   "version": "3.6.3"
  }
 },
 "nbformat": 4,
 "nbformat_minor": 2
}
