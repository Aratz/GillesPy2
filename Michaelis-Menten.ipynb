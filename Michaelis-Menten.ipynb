{
 "metadata": {
  "name": "",
  "signature": "sha256:a099987a5d76e98e81ed7824e37cb505770d8f9e9451784447195f1b9e9a4fd8"
 },
 "nbformat": 3,
 "nbformat_minor": 0,
 "worksheets": [
  {
   "cells": [
    {
     "cell_type": "code",
     "collapsed": false,
     "input": [
      "%matplotlib\n",
      "%matplotlib inline\n",
      "import os\n",
      "\n",
      "import numpy\n",
      "import matplotlib.pyplot as plt"
     ],
     "language": "python",
     "metadata": {},
     "outputs": [
      {
       "output_type": "stream",
       "stream": "stdout",
       "text": [
        "Using matplotlib backend: TkAgg\n"
       ]
      }
     ],
     "prompt_number": 1
    },
    {
     "cell_type": "code",
     "collapsed": false,
     "input": [
      "import gillespy\n",
      "class MichaelisMenten(gillespy.Model):\n",
      "     def __init__(self, parameter_values=None):\n",
      "            #initialize Model\n",
      "            gillespy.Model.__init__(self, name=\"Michaelis_Menten\")\n",
      "            \n",
      "            #parameters\n",
      "            rate1 = gillespy.Parameter(name='rate1', expression= 0.0017)\n",
      "            rate2 = gillespy.Parameter(name='rate2', expression= 0.0001)\n",
      "            rate3 = gillespy.Parameter(name='rate3', expression = 0.1)\n",
      "            self.add_parameter([rate1,rate2,rate3])\n",
      "            \n",
      "            #Species\n",
      "            A = gillespy.Species(name='A', initial_value=301)\n",
      "            B = gillespy.Species(name='B', initial_value=120)\n",
      "            C = gillespy.Species(name='C', initial_value=0)\n",
      "            D = gillespy.Species(name='D', initial_value=0)\n",
      "            self.add_species([A, B, C, D])\n",
      "            \n",
      "            #reactions\n",
      "            r1 = gillespy.Reaction(name=\"r1\",reactants={A:1,B:1}, products={C:1},\n",
      "                   rate=rate1)\n",
      "            \n",
      "            r2 = gillespy.Reaction(name=\"r2\",reactants={C:1}, products={A:1,B:1},\n",
      "                    rate=rate2)\n",
      "            \n",
      "            r3 = gillespy.Reaction(name=\"r3\",reactants={C:1}, products={B:1,D:1},\n",
      "                    rate=rate3)\n",
      "            self.add_reaction([r1,r2,r3])\n",
      "            self.timespan(numpy.linspace(0,100,100))"
     ],
     "language": "python",
     "metadata": {},
     "outputs": [],
     "prompt_number": 2
    },
    {
     "cell_type": "code",
     "collapsed": false,
     "input": [
      "model = MichaelisMenten()\n",
      "\n",
      "model.listOfSpecies"
     ],
     "language": "python",
     "metadata": {},
     "outputs": [
      {
       "metadata": {},
       "output_type": "pyout",
       "prompt_number": 3,
       "text": [
        "OrderedDict([('A', <gillespy.gillespy.Species instance at 0x7fab55601f38>), ('B', <gillespy.gillespy.Species instance at 0x7fab55601f80>), ('C', <gillespy.gillespy.Species instance at 0x7fab55601fc8>), ('D', <gillespy.gillespy.Species instance at 0x7fab5974d050>)])"
       ]
      }
     ],
     "prompt_number": 3
    },
    {
     "cell_type": "code",
     "collapsed": false,
     "input": [
      "def function(y0,t,species,parameters,reactions):\n",
      "    curr_state = {}\n",
      "    state_change = {}\n",
      "    curr_state['vol'] = 1\n",
      "    propensity = {}\n",
      "\n",
      "    for i,s in enumerate(species):  \n",
      "        curr_state[s] = y0[i]\n",
      "        state_change[s] = 0\n",
      "    for p in parameters: \n",
      "        curr_state[p] = parameters[p].value\n",
      "        \n",
      "    for r in reactions:\n",
      "        propensity[r] = eval(reactions[r].propensity_function,curr_state)  #assumption that prop is massAction\n",
      "        for react in reactions[r].reactants:\n",
      "            state_change[react] -= reactions[r].reactants[react]*propensity[r]\n",
      "        for prod in reactions[r].products:\n",
      "            state_change[prod] += reactions[r].products[prod]*propensity[r]\n",
      "\n",
      "            \n",
      "    return([state_change['A'], state_change['B'], state_change['C'], state_change['D']])"
     ],
     "language": "python",
     "metadata": {},
     "outputs": [],
     "prompt_number": 4
    },
    {
     "cell_type": "code",
     "collapsed": false,
     "input": [
      "?odeint\n",
      "\n"
     ],
     "language": "python",
     "metadata": {},
     "outputs": [
      {
       "output_type": "stream",
       "stream": "stdout",
       "text": [
        "Object `odeint` not found.\n"
       ]
      }
     ],
     "prompt_number": 5
    },
    {
     "cell_type": "markdown",
     "metadata": {},
     "source": [
      "# Function w/ odeint\n"
     ]
    },
    {
     "cell_type": "code",
     "collapsed": false,
     "input": [
      "from scipy.integrate import odeint\n",
      "import matplotlib.pyplot as plt\n",
      "import numpy as np\n",
      "%matplotlib inline\n",
      "\n",
      "y0 = [301, 120, 0, 0]\n",
      "t = np.linspace(0,100,101)\n",
      "\n",
      "\n",
      "int_results= odeint(func=function, y0=y0, t=t, args=(model.listOfSpecies,model.listOfParameters,model.listOfReactions))"
     ],
     "language": "python",
     "metadata": {},
     "outputs": [],
     "prompt_number": 6
    },
    {
     "cell_type": "code",
     "collapsed": false,
     "input": [
      "dresults = model.run(solver=gillespy.StochKitODESolver, show_labels=False)"
     ],
     "language": "python",
     "metadata": {},
     "outputs": [],
     "prompt_number": 7
    },
    {
     "cell_type": "markdown",
     "metadata": {},
     "source": [
      "# Hard Coded"
     ]
    },
    {
     "cell_type": "code",
     "collapsed": false,
     "input": [
      "def mich_ment(y0, t, r1, r2, r3):\n",
      "    \n",
      "    a = r2*y0[2] -r1*y0[0]*y0[1] \n",
      "    b = r2*y0[2] + r3*y0[2] -r1*y0[0]*y0[1]\n",
      "    c = r1*y0[0]*y0[1] - r2*y0[2] - r3*y0[2]\n",
      "    d = r3*y0[2]\n",
      "\n",
      "\n",
      "    return [a,b,c,d]\n",
      "    \n",
      "y0 = [301, 120, 0, 0]\n",
      "t = np.linspace(0,100,101)\n",
      "r1 = 0.0017\n",
      "r2 = .0001\n",
      "r3 = 0.1\n",
      "\n",
      "    \n",
      "hard_results = odeint(func=mich_ment, y0=y0, t=t, args = (r1,r2,r3))\n"
     ],
     "language": "python",
     "metadata": {},
     "outputs": [],
     "prompt_number": 8
    },
    {
     "cell_type": "code",
     "collapsed": false,
     "input": [
      "print(dresults[0][:,0])"
     ],
     "language": "python",
     "metadata": {},
     "outputs": [
      {
       "output_type": "stream",
       "stream": "stdout",
       "text": [
        "[   0.        1.0204    2.0408    3.0612    4.0816    5.102     6.1224\n",
        "    7.1429    8.1633    9.1837   10.204    11.224    12.245    13.265\n",
        "   14.286    15.306    16.327    17.347    18.367    19.388    20.408\n",
        "   21.429    22.449    23.469    24.49     25.51     26.531    27.551\n",
        "   28.571    29.592    30.612    31.633    32.653    33.673    34.694\n",
        "   35.714    36.735    37.755    38.776    39.796    40.816    41.837\n",
        "   42.857    43.878    44.898    45.918    46.939    47.959    48.98     50.\n",
        "   51.02     52.041    53.061    54.082    55.102    56.122    57.143\n",
        "   58.163    59.184    60.204    61.224    62.245    63.265    64.286\n",
        "   65.306    66.327    67.347    68.367    69.388    70.408    71.429\n",
        "   72.449    73.469    74.49     75.51     76.531    77.551    78.571\n",
        "   79.592    80.612    81.633    82.653    83.673    84.694    85.714\n",
        "   86.735    87.755    88.776    89.796    90.816    91.837    92.857\n",
        "   93.878    94.898    95.918    96.939    97.959    98.98    100.    ]\n"
       ]
      }
     ],
     "prompt_number": 9
    },
    {
     "cell_type": "code",
     "collapsed": false,
     "input": [
      "#plt.plot(dresults[0][:,0],dresults[0][:,1],'-r', label='Substrate')\n",
      "#plt.plot(dresults[0][:,0],dresults[0][:,4],'-b', label='Product')\n",
      "\n",
      "#Results from StochKit\n",
      "plt.plot(dresults[0][:,0],dresults[0][:,1],'-r')\n",
      "plt.plot(dresults[0][:,0],dresults[0][:,4],'-b')\n",
      "#Results from hard coded\n",
      "#plt.plot(t,hard_results[:,0])\n",
      "#plt.plot(t,hard_results[:,3])\n",
      "#Results from basic ode function\n",
      "plt.plot(t, int_results[:,0])\n",
      "plt.plot(t, int_results[:,3])\n",
      "\n",
      "plt.plot([0],[11])\n",
      "\n",
      "\n"
     ],
     "language": "python",
     "metadata": {},
     "outputs": [
      {
       "metadata": {},
       "output_type": "pyout",
       "prompt_number": 10,
       "text": [
        "[<matplotlib.lines.Line2D at 0x7fab550c0b90>]"
       ]
      },
      {
       "metadata": {},
       "output_type": "display_data",
       "png": "[encoded data removed]",
       "text": [
        "<matplotlib.figure.Figure at 0x7fab5538d8d0>"
       ]
      }
     ],
     "prompt_number": 10
    },
    {
     "cell_type": "code",
     "collapsed": false,
     "input": [],
     "language": "python",
     "metadata": {},
     "outputs": [],
     "prompt_number": 10
    }
   ],
   "metadata": {}
  }
 ]
}