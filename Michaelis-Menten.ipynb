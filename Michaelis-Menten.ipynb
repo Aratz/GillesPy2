{
 "cells": [
  {
   "cell_type": "code",
   "execution_count": 1,
   "metadata": {
    "collapsed": true
   },
   "outputs": [],
   "source": [
    "import sys\n"
   ]
  },
  {
   "cell_type": "code",
   "execution_count": 2,
   "metadata": {
    "collapsed": true
   },
   "outputs": [],
   "source": [
    "#sys.path.append(\"/home/edixon1/GillesPy2/gillespy2\")\n",
    "#sys.path.append(\"/Users/ghilman/Documents/Coding/repo/GillesPy2\")\n",
    "sys.path.append(\"/home/dalton/environments/Gillespy2/Repository/gillespy2\")"
   ]
  },
  {
   "cell_type": "code",
   "execution_count": 3,
   "metadata": {
    "collapsed": false
   },
   "outputs": [
    {
     "data": {
      "text/plain": [
       "['',\n",
       " '/usr/lib/python36.zip',\n",
       " '/usr/lib/python3.6',\n",
       " '/usr/lib/python3.6/lib-dynload',\n",
       " '/home/dalton/.local/lib/python3.6/site-packages',\n",
       " '/usr/lib/python3.6/site-packages',\n",
       " '/usr/local/lib/python3.6/dist-packages',\n",
       " '/usr/lib/python3/dist-packages',\n",
       " '/usr/lib/python3.6/dist-packages',\n",
       " '/usr/lib/python3/dist-packages/IPython/extensions',\n",
       " '/home/dalton/.ipython',\n",
       " '/home/dalton/environments/Gillespy2/Repository/gillespy2']"
      ]
     },
     "execution_count": 3,
     "metadata": {},
     "output_type": "execute_result"
    }
   ],
   "source": [
    "sys.path\n"
   ]
  },
  {
   "cell_type": "code",
   "execution_count": 4,
   "metadata": {
    "collapsed": false
   },
   "outputs": [
    {
     "name": "stdout",
     "output_type": "stream",
     "text": [
      "Using matplotlib backend: TkAgg\n"
     ]
    }
   ],
   "source": [
    "%matplotlib\n",
    "%matplotlib inline\n",
    "import numpy\n",
    "import matplotlib.pyplot as plt"
   ]
  },
  {
   "cell_type": "code",
   "execution_count": 5,
   "metadata": {
    "collapsed": false
   },
   "outputs": [
    {
     "name": "stdout",
     "output_type": "stream",
     "text": [
      "Unable to use Cython optimized SSA:\n",
      "Error:No module named 'pyximport'\n"
     ]
    }
   ],
   "source": [
    "import gillespy2\n",
    "class MichaelisMenten(gillespy2.Model):\n",
    "     def __init__(self, parameter_values=None):\n",
    "            #initialize Model\n",
    "            gillespy2.Model.__init__(self, name=\"Michaelis_Menten\")\n",
    "            \n",
    "            #parameters\n",
    "            rate1 = gillespy2.Parameter(name='rate1', expression= 0.0017)\n",
    "            rate2 = gillespy2.Parameter(name='rate2', expression= 0.5)\n",
    "            rate3 = gillespy2.Parameter(name='rate3', expression = 0.1)\n",
    "            self.add_parameter([rate1,rate2,rate3])\n",
    "            \n",
    "            #Species\n",
    "            A = gillespy2.Species(name='A', initial_value=301)\n",
    "            B = gillespy2.Species(name='B', initial_value=120)\n",
    "            C = gillespy2.Species(name='C', initial_value=0)\n",
    "            D = gillespy2.Species(name='D', initial_value=0)\n",
    "            self.add_species([A, B, C, D])\n",
    "            \n",
    "            #reactions\n",
    "            r1 = gillespy2.Reaction(name=\"r1\",reactants={A:1,B:1}, products={C:1},\n",
    "                   rate=rate1)\n",
    "            \n",
    "            r2 = gillespy2.Reaction(name=\"r2\",reactants={C:1}, products={A:1,B:1},\n",
    "                    rate=rate2)\n",
    "            \n",
    "            r3 = gillespy2.Reaction(name=\"r3\",reactants={C:1}, products={B:1,D:1},\n",
    "                    rate=rate3)\n",
    "            self.add_reaction([r1,r2,r3])\n",
    "            self.timespan(numpy.linspace(0,100,101))"
   ]
  },
  {
   "cell_type": "code",
   "execution_count": null,
   "metadata": {
    "collapsed": false
   },
   "outputs": [
    {
     "name": "stdout",
     "output_type": "stream",
     "text": [
      "Clean: CompletedProcess(args=['make', '-C', '/home/dalton/environments/GillesPy2/Repository/gillespy2/c_base/', 'cleanSimulation'], returncode=0, stdout=b\"make: Entering directory '/home/dalton/environments/GillesPy2/Repository/gillespy2/c_base'\\nrm -f UserSimulation\\nmake: Leaving directory '/home/dalton/environments/GillesPy2/Repository/gillespy2/c_base'\\n\")\n",
      "Build: CompletedProcess(args=['make', '-C', '/home/dalton/environments/GillesPy2/Repository/gillespy2/c_base/', 'UserSimulation'], returncode=0, stdout=b\"make: Entering directory '/home/dalton/environments/GillesPy2/Repository/gillespy2/c_base'\\ng++ UserSimulation.cpp -Wall -O3 -o UserSimulation model.o ssa.o\\nmake: Leaving directory '/home/dalton/environments/GillesPy2/Repository/gillespy2/c_base'\\n\")\n",
      "[[[  0.      301.      120.        0.        0.     ]\n",
      "  [  1.0101  266.       86.       34.        1.     ]\n",
      "  [  2.0202  254.       78.       42.        5.     ]\n",
      "  [  3.0303  244.       74.       46.       11.     ]\n",
      "  [  4.0404  237.       72.       48.       16.     ]\n",
      "  [  5.05051 240.       80.       40.       21.     ]\n",
      "  [  6.06061 234.       76.       44.       23.     ]\n",
      "  [  7.07071 227.       70.       50.       24.     ]\n",
      "  [  8.08081 224.       73.       47.       30.     ]\n",
      "  [  9.09091 218.       70.       50.       33.     ]\n",
      "  [ 10.101   217.       77.       43.       41.     ]\n",
      "  [ 11.1111  213.       75.       45.       43.     ]\n",
      "  [ 12.1212  213.       79.       41.       47.     ]\n",
      "  [ 13.1313  202.       71.       49.       50.     ]\n",
      "  [ 14.1414  198.       72.       48.       55.     ]\n",
      "  [ 15.1515  210.       87.       33.       58.     ]\n",
      "  [ 16.1616  197.       79.       41.       63.     ]\n",
      "  [ 17.1717  191.       76.       44.       66.     ]\n",
      "  [ 18.1818  191.       80.       40.       70.     ]\n",
      "  [ 19.1919  188.       79.       41.       72.     ]\n",
      "  [ 20.202   179.       81.       39.       83.     ]\n",
      "  [ 21.2121  178.       88.       32.       91.     ]\n",
      "  [ 22.2222  166.       82.       38.       97.     ]\n",
      "  [ 23.2323  167.       87.       33.      101.     ]\n",
      "  [ 24.2424  156.       82.       38.      107.     ]\n",
      "  [ 25.2525  160.       91.       29.      112.     ]\n",
      "  [ 26.2626  151.       83.       37.      113.     ]\n",
      "  [ 27.2727  146.       80.       40.      115.     ]\n",
      "  [ 28.2828  143.       80.       40.      118.     ]\n",
      "  [ 29.2929  143.       85.       35.      123.     ]\n",
      "  [ 30.303   138.       83.       37.      126.     ]\n",
      "  [ 31.3131  138.       87.       33.      130.     ]\n",
      "  [ 32.3232  132.       83.       37.      132.     ]\n",
      "  [ 33.3333  128.       85.       35.      138.     ]\n",
      "  [ 34.3434  125.       83.       37.      139.     ]\n",
      "  [ 35.3535  124.       85.       35.      142.     ]\n",
      "  [ 36.3636  110.       74.       46.      145.     ]\n",
      "  [ 37.3737  113.       82.       38.      150.     ]\n",
      "  [ 38.3838  116.       87.       33.      152.     ]\n",
      "  [ 39.3939  112.       83.       37.      152.     ]\n",
      "  [ 40.404   113.       85.       35.      153.     ]\n",
      "  [ 41.4141  118.       95.       25.      158.     ]\n",
      "  [ 42.4242  106.       84.       36.      159.     ]\n",
      "  [ 43.4343   97.       81.       39.      165.     ]\n",
      "  [ 44.4444   98.       87.       33.      170.     ]\n",
      "  [ 45.4545  101.       92.       28.      172.     ]\n",
      "  [ 46.4646  102.       96.       24.      175.     ]\n",
      "  [ 47.4747  103.       98.       22.      176.     ]\n",
      "  [ 48.4848  100.       97.       23.      178.     ]\n",
      "  [ 49.4949  100.       98.       22.      179.     ]\n",
      "  [ 50.5051   94.       95.       25.      182.     ]\n",
      "  [ 51.5152   93.       99.       21.      187.     ]\n",
      "  [ 52.5253   89.       97.       23.      189.     ]\n",
      "  [ 53.5354   88.       98.       22.      191.     ]\n",
      "  [ 54.5455   83.       95.       25.      193.     ]\n",
      "  [ 55.5556   74.       87.       33.      194.     ]\n",
      "  [ 56.5657   77.       93.       27.      197.     ]\n",
      "  [ 57.5758   73.       90.       30.      198.     ]\n",
      "  [ 58.5859   76.       95.       25.      200.     ]\n",
      "  [ 59.596    68.       89.       31.      202.     ]\n",
      "  [ 60.6061   69.       91.       29.      203.     ]\n",
      "  [ 61.6162   75.       99.       21.      205.     ]\n",
      "  [ 62.6263   67.       92.       28.      206.     ]\n",
      "  [ 63.6364   73.      102.       18.      210.     ]\n",
      "  [ 64.6465   64.       95.       25.      212.     ]\n",
      "  [ 65.6566   63.       95.       25.      213.     ]\n",
      "  [ 66.6667   63.       99.       21.      217.     ]\n",
      "  [ 67.6768   63.      103.       17.      221.     ]\n",
      "  [ 68.6869   59.      101.       19.      223.     ]\n",
      "  [ 69.697    57.      102.       18.      226.     ]\n",
      "  [ 70.7071   52.       98.       22.      227.     ]\n",
      "  [ 71.7172   55.      106.       14.      232.     ]\n",
      "  [ 72.7273   52.      106.       14.      235.     ]\n",
      "  [ 73.7374   50.      106.       14.      237.     ]\n",
      "  [ 74.7475   49.      106.       14.      238.     ]\n",
      "  [ 75.7576   47.      104.       16.      238.     ]\n",
      "  [ 76.7677   45.      103.       17.      239.     ]\n",
      "  [ 77.7778   45.      104.       16.      240.     ]\n",
      "  [ 78.7879   43.      106.       14.      244.     ]\n",
      "  [ 79.798    42.      110.       10.      249.     ]\n",
      "  [ 80.8081   39.      107.       13.      249.     ]\n",
      "  [ 81.8182   38.      108.       12.      251.     ]\n",
      "  [ 82.8283   37.      108.       12.      252.     ]\n",
      "  [ 83.8384   37.      111.        9.      255.     ]\n",
      "  [ 84.8485   30.      105.       15.      256.     ]\n",
      "  [ 85.8586   33.      110.       10.      258.     ]\n",
      "  [ 86.8687   33.      112.        8.      260.     ]\n",
      "  [ 87.8788   32.      112.        8.      261.     ]\n",
      "  [ 88.8889   31.      111.        9.      261.     ]\n",
      "  [ 89.899    30.      110.       10.      261.     ]\n",
      "  [ 90.9091   28.      111.        9.      264.     ]\n",
      "  [ 91.9192   30.      113.        7.      264.     ]\n",
      "  [ 92.9293   32.      115.        5.      264.     ]\n",
      "  [ 93.9394   30.      115.        5.      266.     ]\n",
      "  [ 94.9495   31.      116.        4.      266.     ]\n",
      "  [ 95.9596   30.      115.        5.      266.     ]\n",
      "  [ 96.9697   27.      112.        8.      266.     ]\n",
      "  [ 97.9798   24.      110.       10.      267.     ]\n",
      "  [ 98.9899   26.      113.        7.      268.     ]\n",
      "  [100.       24.      113.        7.      270.     ]]]\n"
     ]
    },
    {
     "data": {
      "text/plain": [
       "<matplotlib.legend.Legend at 0x7ff3d372b080>"
      ]
     },
     "execution_count": 7,
     "metadata": {},
     "output_type": "execute_result"
    },
    {
     "data": {
      "image/png": "[encoded data removed]",
      "text/plain": [
       "<matplotlib.figure.Figure at 0x7ff3d7078eb8>"
      ]
     },
     "metadata": {},
     "output_type": "display_data"
    }
   ],
   "source": [
    "#import pyximport\n",
    "from gillespy2 import SSASolver, SSACSolver\n",
    "model = MichaelisMenten()\n",
    "results = model.run(show_labels=False)\n",
    "dresults = model.run(solver=SSACSolver, show_labels=False)\n",
    "plt.plot(dresults[0][:,0],dresults[0][:,1],'--r', label='Substrate')\n",
    "plt.plot(dresults[0][:,0],dresults[0][:,4],'--b', label='Product')\n",
    "plt.plot(results[0][:,0],results[0][:,1],'-r', label='Substrate')\n",
    "plt.plot(results[0][:,0],results[0][:,4],'-b', label='Product')\n",
    "plt.plot([0],[11])\n",
    "plt.legend(loc='best')"
   ]
  },
  {
   "cell_type": "code",
   "execution_count": null,
   "metadata": {
    "collapsed": false
   },
   "outputs": [
    {
     "name": "stdout",
     "output_type": "stream",
     "text": [
      "[1.         0.03562152 0.07272413 0.14614639]\n",
      "[2.         0.04118706 0.14178141 0.27110898]\n",
      "[4.         0.0483216  0.26305488 0.53165363]\n",
      "[8.         0.05783228 0.53813066 1.09432671]\n",
      "[16.          0.0721668   1.08452889  2.19280875]\n",
      "[32.          0.09750686  2.1435207   4.27444987]\n",
      "[64.          0.15654585  4.27674076  8.51491858]\n",
      "[128.           0.30645718   8.82526378  17.60988773]\n"
     ]
    }
   ],
   "source": [
    "import time\n",
    "from gillespy2 import SSASolver, StochKitSolver, BasicSSASolver\n",
    "import numpy as np\n",
    "log2_trajectories_max = 10\n",
    "loops = 10\n",
    "solvers = [StochKitSolver, SSASolver, BasicSSASolver]\n",
    "timing_data = np.zeros((log2_trajectories_max+1,len(solvers)+1))\n",
    "for n in range(0,log2_trajectories_max+1):\n",
    "    timing_data[n, 0] = 2**n\n",
    "    for i in range(loops):\n",
    "        for solver in range(len(solvers)):\n",
    "            time_start = time.perf_counter()\n",
    "            model.run(solver=solvers[solver], show_labels=False, number_of_trajectories=2**n)\n",
    "            time_end = time.perf_counter()\n",
    "            timing_data[n, solver+1] += (time_end - time_start)/loops\n",
    "    print(timing_data[n,:])\n",
    "print(timing_data)"
   ]
  },
  {
   "cell_type": "code",
   "execution_count": null,
   "metadata": {
    "collapsed": false
   },
   "outputs": [],
   "source": [
    "plt.plot(timing_data[:,0],timing_data[:,1],'-r', label='StochKit')\n",
    "plt.plot(timing_data[:,0],timing_data[:,2],'-b', label='Cython')\n",
    "plt.plot(timing_data[:,0],timing_data[:,3],'-g', label='Numpy')\n",
    "plt.plot(timing_data[:,0],timing_data[:,4],'-k', label='Python')\n",
    "plt.title(\"SSA Simulation Time\")\n",
    "plt.ylabel(\"Seconds\")\n",
    "plt.xlabel(\"Trajectories\")\n",
    "plt.legend(loc='best')\n",
    "plt.savefig(\"SSA_Comparisons3.png\")"
   ]
  },
  {
   "cell_type": "code",
   "execution_count": null,
   "metadata": {
    "collapsed": true
   },
   "outputs": [],
   "source": []
  },
  {
   "cell_type": "code",
   "execution_count": null,
   "metadata": {
    "collapsed": true
   },
   "outputs": [],
   "source": []
  }
 ],
 "metadata": {
  "kernelspec": {
   "display_name": "Python 3",
   "language": "python",
   "name": "python3"
  },
  "language_info": {
   "codemirror_mode": {
    "name": "ipython",
    "version": 3
   },
   "file_extension": ".py",
   "mimetype": "text/x-python",
   "name": "python",
   "nbconvert_exporter": "python",
   "pygments_lexer": "ipython3",
   "version": "3.6.3"
  }
 },
 "nbformat": 4,
 "nbformat_minor": 1
}
