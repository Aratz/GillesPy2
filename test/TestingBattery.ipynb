{
 "cells": [
  {
   "cell_type": "markdown",
   "metadata": {},
   "source": [
    "# Current Testing Battery"
   ]
  },
  {
   "cell_type": "code",
   "execution_count": 1,
   "metadata": {},
   "outputs": [
    {
     "name": "stderr",
     "output_type": "stream",
     "text": [
      "WARNING:root: Unable to use Cython optimized SSA: No module named 'pyximport'\n",
      "The performance of this package can be significantly increased if you install Cython.\n"
     ]
    }
   ],
   "source": [
    "import sys\n",
    "import statistics\n",
    "import numpy\n",
    "from itertools import product\n",
    "from timeit import default_timer as timer\n",
    "from tqdm import tqdm\n",
    "sys.path.append(\"..\")\n",
    "import gillespy2\n",
    "from scipy import stats"
   ]
  },
  {
   "cell_type": "code",
   "execution_count": 2,
   "metadata": {},
   "outputs": [],
   "source": [
    "from gillespy2.basic_ssa_solver import BasicSSASolver\n",
    "from gillespy2.ssa_c_solver import SSACSolver\n",
    "from gillespy2.basic_root_solver import BasicRootSolver\n",
    "from gillespy2.optimized_ssa_solver import OptimizedSSASolver\n",
    "from gillespy2.basic_tau_leaping_solver import BasicTauLeapingSolver\n",
    "from gillespy2.basic_tau_hybrid_solver import BasicTauHybridSolver\n",
    "from gillespy2.example_models import *"
   ]
  },
  {
   "cell_type": "code",
   "execution_count": 3,
   "metadata": {},
   "outputs": [
    {
     "ename": "SyntaxError",
     "evalue": "invalid syntax (<ipython-input-3-ac38bab16d8e>, line 14)",
     "output_type": "error",
     "traceback": [
      "\u001b[0;36m  File \u001b[0;32m\"<ipython-input-3-ac38bab16d8e>\"\u001b[0;36m, line \u001b[0;32m14\u001b[0m\n\u001b[0;31m    for i in tqdm(range(30), desc = f'Model: {model.name}, Solver: {solver.name}'):\u001b[0m\n\u001b[0m                                                                                ^\u001b[0m\n\u001b[0;31mSyntaxError\u001b[0m\u001b[0;31m:\u001b[0m invalid syntax\n"
     ]
    }
   ],
   "source": [
    "modelList = [Example(), Trichloroethylene(), MichaelisMenten(), Schlogl()]\n",
    "\n",
    "solverList = [BasicSSASolver, SSACSolver, BasicRootSolver, OptimizedSSASolver, OptimizedSSASolver(), BasicTauLeapingSolver, BasicTauHybridSolver]\n",
    "timingList = []\n",
    "\n",
    "precompile_solver = True\n",
    "\n",
    "\n",
    "for model, solver in product(modelList, solverList):\n",
    "    medianList = []\n",
    "    exterior_stats = []\n",
    "    if precompile_solver and (solver == SSACSolver or isinstance(solver, SSACSolver)): #precompile SSACSolver to save time in repated tests\n",
    "        solver = SSACSolver(model)\n",
    "    for i in tqdm(range(30), desc = f'Model: {model.name}, Solver: {solver.name}'):\n",
    "        standard_results = model.run()\n",
    "        start = timer()\n",
    "        test_results = model.run(solver=solver)\n",
    "        stop = timer()\n",
    "        medianList.append(stop-start)\n",
    "        interior_stats = []\n",
    "        for species in standard_results[0].keys():\n",
    "            if solver in [BasicSSASolver, BasicRootSolver]:\n",
    "                interior_stats.append(stats.ks_2samp(standard_results[0][species], test_results[species])[0])\n",
    "            else:\n",
    "                interior_stats.append(stats.ks_2samp(standard_results[0][species], test_results[0][species])[0])\n",
    "                \n",
    "        exterior_stats.append(statistics.median(interior_stats))\n",
    "    median = statistics.median(medianList)\n",
    "    timingList.append([model, solver, median])"
   ]
  },
  {
   "cell_type": "code",
   "execution_count": null,
   "metadata": {},
   "outputs": [],
   "source": []
  }
 ],
 "metadata": {
  "kernelspec": {
   "display_name": "Python 3",
   "language": "python",
   "name": "python3"
  },
  "language_info": {
   "codemirror_mode": {
    "name": "ipython",
    "version": 3
   },
   "file_extension": ".py",
   "mimetype": "text/x-python",
   "name": "python",
   "nbconvert_exporter": "python",
   "pygments_lexer": "ipython3",
   "version": "3.5.2"
  }
 },
 "nbformat": 4,
 "nbformat_minor": 2
}
