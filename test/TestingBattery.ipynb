{
 "cells": [
  {
   "cell_type": "markdown",
   "metadata": {},
   "source": [
    "# Current Testing Battery"
   ]
  },
  {
   "cell_type": "code",
   "execution_count": 1,
   "metadata": {},
   "outputs": [],
   "source": [
    "import sys\n",
    "import statistics\n",
    "import numpy\n",
    "from itertools import product\n",
    "from timeit import default_timer as timer\n",
    "from tqdm import tqdm\n",
    "sys.path.append(\"..\")\n",
    "import gillespy2\n",
    "from scipy import stats"
   ]
  },
  {
   "cell_type": "code",
   "execution_count": 2,
   "metadata": {},
   "outputs": [],
   "source": [
    "from gillespy2.basic_ssa_solver import BasicSSASolver\n",
    "from gillespy2.ssa_c_solver import SSACSolver\n",
    "from gillespy2.basic_root_solver import BasicRootSolver\n",
    "from gillespy2.optimized_ssa_solver import OptimizedSSASolver\n",
    "from gillespy2.basic_tau_leaping_solver import BasicTauLeapingSolver\n",
    "from gillespy2.basic_tau_hybrid_solver import BasicTauHybridSolver\n",
    "from gillespy2.example_models import *"
   ]
  },
  {
   "cell_type": "code",
   "execution_count": 3,
   "metadata": {},
   "outputs": [
    {
     "name": "stderr",
     "output_type": "stream",
     "text": [
      "Model: Example, Solver: <class 'gillespy2.basic_ssa_solver.BasicSSASolver'>: 100%|██████████| 30/30 [00:09<00:00,  3.24it/s]\n",
      "Model: Example, Solver: <gillespy2.ssa_c_solver.SSACSolver object at 0x7f0ce8852f60>: 100%|██████████| 30/30 [00:14<00:00,  1.91it/s]\n",
      "Model: Example, Solver: <class 'gillespy2.basic_root_solver.BasicRootSolver'>: 100%|██████████| 30/30 [00:13<00:00,  1.98it/s]\n",
      "Model: Example, Solver: <class 'gillespy2.optimized_ssa_solver.OptimizedSSASolver'>: 100%|██████████| 30/30 [00:09<00:00,  3.52it/s]\n",
      "Model: Example, Solver: <gillespy2.optimized_ssa_solver.OptimizedSSASolver object at 0x7f0ce88b9ac8>: 100%|██████████| 30/30 [00:08<00:00,  3.33it/s]\n",
      "Model: Example, Solver: <class 'gillespy2.basic_tau_leaping_solver.BasicTauLeapingSolver'>: 100%|██████████| 30/30 [00:09<00:00,  3.06it/s]\n",
      "Model: Example, Solver: <gillespy2.basic_tau_leaping_solver.BasicTauLeapingSolver object at 0x7f0ce88bb7f0>: 100%|██████████| 30/30 [00:09<00:00,  2.60it/s]\n",
      "Model: Example, Solver: <class 'gillespy2.basic_tau_hybrid_solver.BasicTauHybridSolver'>: 100%|██████████| 30/30 [00:09<00:00,  3.06it/s]\n",
      "Model: Example, Solver: <gillespy2.basic_tau_hybrid_solver.BasicTauHybridSolver object at 0x7f0ce88bb828>: 100%|██████████| 30/30 [00:10<00:00,  3.17it/s]\n",
      "Model: Trichloroethylene, Solver: <class 'gillespy2.basic_ssa_solver.BasicSSASolver'>: 100%|██████████| 30/30 [00:12<00:00,  2.33it/s]\n",
      "Model: Trichloroethylene, Solver: <gillespy2.ssa_c_solver.SSACSolver object at 0x7f0ce01294a8>: 100%|██████████| 30/30 [00:09<00:00,  3.03it/s]\n",
      "Model: Trichloroethylene, Solver: <class 'gillespy2.basic_root_solver.BasicRootSolver'>: 100%|██████████| 30/30 [01:09<00:00,  2.39s/it]\n",
      "Model: Trichloroethylene, Solver: <class 'gillespy2.optimized_ssa_solver.OptimizedSSASolver'>: 100%|██████████| 30/30 [00:09<00:00,  3.30it/s]\n",
      "Model: Trichloroethylene, Solver: <gillespy2.optimized_ssa_solver.OptimizedSSASolver object at 0x7f0ce88b9ac8>: 100%|██████████| 30/30 [00:09<00:00,  3.22it/s]\n",
      "Model: Trichloroethylene, Solver: <class 'gillespy2.basic_tau_leaping_solver.BasicTauLeapingSolver'>: 100%|██████████| 30/30 [00:36<00:00,  1.48it/s]\n",
      "Model: Trichloroethylene, Solver: <gillespy2.basic_tau_leaping_solver.BasicTauLeapingSolver object at 0x7f0ce88bb7f0>: 100%|██████████| 30/30 [00:30<00:00,  1.48s/it]\n",
      "Model: Trichloroethylene, Solver: <class 'gillespy2.basic_tau_hybrid_solver.BasicTauHybridSolver'>: 100%|██████████| 30/30 [00:25<00:00,  1.26it/s]\n",
      "Model: Trichloroethylene, Solver: <gillespy2.basic_tau_hybrid_solver.BasicTauHybridSolver object at 0x7f0ce88bb828>: 100%|██████████| 30/30 [00:25<00:00,  1.23it/s]\n",
      "Model: Michaelis_Menten, Solver: <class 'gillespy2.basic_ssa_solver.BasicSSASolver'>: 100%|██████████| 30/30 [00:12<00:00,  2.40it/s]\n",
      "Model: Michaelis_Menten, Solver: <gillespy2.ssa_c_solver.SSACSolver object at 0x7f0cba2d4da0>: 100%|██████████| 30/30 [00:09<00:00,  3.22it/s]\n",
      "Model: Michaelis_Menten, Solver: <class 'gillespy2.basic_root_solver.BasicRootSolver'>: 100%|██████████| 30/30 [01:54<00:00,  3.76s/it]\n",
      "Model: Michaelis_Menten, Solver: <class 'gillespy2.optimized_ssa_solver.OptimizedSSASolver'>: 100%|██████████| 30/30 [00:08<00:00,  3.36it/s]\n",
      "Model: Michaelis_Menten, Solver: <gillespy2.optimized_ssa_solver.OptimizedSSASolver object at 0x7f0ce88b9ac8>: 100%|██████████| 30/30 [00:09<00:00,  3.30it/s]\n",
      "Model: Michaelis_Menten, Solver: <class 'gillespy2.basic_tau_leaping_solver.BasicTauLeapingSolver'>: 100%|██████████| 30/30 [00:16<00:00,  1.79it/s]\n",
      "Model: Michaelis_Menten, Solver: <gillespy2.basic_tau_leaping_solver.BasicTauLeapingSolver object at 0x7f0ce88bb7f0>: 100%|██████████| 30/30 [00:15<00:00,  2.01it/s]\n",
      "Model: Michaelis_Menten, Solver: <class 'gillespy2.basic_tau_hybrid_solver.BasicTauHybridSolver'>: 100%|██████████| 30/30 [00:24<00:00,  1.18it/s]\n",
      "Model: Michaelis_Menten, Solver: <gillespy2.basic_tau_hybrid_solver.BasicTauHybridSolver object at 0x7f0ce88bb828>: 100%|██████████| 30/30 [00:24<00:00,  1.27it/s]\n",
      "Model: Schlogl, Solver: <class 'gillespy2.basic_ssa_solver.BasicSSASolver'>: 100%|██████████| 30/30 [00:09<00:00,  2.86it/s]\n",
      "Model: Schlogl, Solver: <gillespy2.ssa_c_solver.SSACSolver object at 0x7f0ce882f0f0>: 100%|██████████| 30/30 [00:10<00:00,  3.02it/s]\n",
      "Model: Schlogl, Solver: <class 'gillespy2.basic_root_solver.BasicRootSolver'>: 100%|██████████| 30/30 [01:37<00:00,  3.07s/it]\n",
      "Model: Schlogl, Solver: <class 'gillespy2.optimized_ssa_solver.OptimizedSSASolver'>: 100%|██████████| 30/30 [00:08<00:00,  3.27it/s]\n",
      "Model: Schlogl, Solver: <gillespy2.optimized_ssa_solver.OptimizedSSASolver object at 0x7f0ce88b9ac8>: 100%|██████████| 30/30 [00:08<00:00,  3.62it/s]\n",
      "Model: Schlogl, Solver: <class 'gillespy2.basic_tau_leaping_solver.BasicTauLeapingSolver'>: 100%|██████████| 30/30 [00:09<00:00,  3.24it/s]\n",
      "Model: Schlogl, Solver: <gillespy2.basic_tau_leaping_solver.BasicTauLeapingSolver object at 0x7f0ce88bb7f0>: 100%|██████████| 30/30 [00:09<00:00,  3.16it/s]\n",
      "Model: Schlogl, Solver: <class 'gillespy2.basic_tau_hybrid_solver.BasicTauHybridSolver'>: 100%|██████████| 30/30 [00:10<00:00,  2.84it/s]\n",
      "Model: Schlogl, Solver: <gillespy2.basic_tau_hybrid_solver.BasicTauHybridSolver object at 0x7f0ce88bb828>: 100%|██████████| 30/30 [00:10<00:00,  2.87it/s]\n"
     ]
    }
   ],
   "source": [
    "modelList = [Example(), Trichloroethylene(), MichaelisMenten(), Schlogl()]\n",
    "\n",
    "solverList = [BasicSSASolver, SSACSolver, BasicRootSolver, OptimizedSSASolver, \n",
    "              OptimizedSSASolver(), BasicTauLeapingSolver, BasicTauLeapingSolver(), \n",
    "             BasicTauHybridSolver, BasicTauHybridSolver()]\n",
    "timingList = []\n",
    "\n",
    "precompile_solver = True\n",
    "\n",
    "\n",
    "for model, solver in product(modelList, solverList):\n",
    "    medianList = []\n",
    "    exterior_stats = []\n",
    "    if precompile_solver and (solver == SSACSolver or isinstance(solver, SSACSolver)): #precompile SSACSolver to save time in repated tests\n",
    "        solver = SSACSolver(model)\n",
    "    for i in tqdm(range(30), desc = 'Model: {0}, Solver: {1}'.format(model.name, solver)):\n",
    "        standard_results = model.run()\n",
    "        start = timer()\n",
    "        test_results = model.run(solver=solver)\n",
    "        stop = timer()\n",
    "        medianList.append(stop-start)\n",
    "        interior_stats = []\n",
    "        for species in standard_results[0].keys():\n",
    "            if isinstance(test_results, dict):\n",
    "                interior_stats.append(stats.ks_2samp(standard_results[0][species], test_results[species])[0])\n",
    "            else:\n",
    "                interior_stats.append(stats.ks_2samp(standard_results[0][species], test_results[0][species])[0])\n",
    "                \n",
    "        exterior_stats.append(statistics.median(interior_stats))\n",
    "    median = statistics.median(medianList)\n",
    "    timingList.append([model, solver, median])"
   ]
  },
  {
   "cell_type": "code",
   "execution_count": 4,
   "metadata": {},
   "outputs": [
    {
     "data": {
      "text/plain": [
       "[0.0, 0.0, 0.0, 0.0, 0.010101010101010166]"
      ]
     },
     "execution_count": 4,
     "metadata": {},
     "output_type": "execute_result"
    }
   ],
   "source": [
    "interior_stats"
   ]
  },
  {
   "cell_type": "code",
   "execution_count": null,
   "metadata": {},
   "outputs": [],
   "source": []
  }
 ],
 "metadata": {
  "kernelspec": {
   "display_name": "Python 3",
   "language": "python",
   "name": "python3"
  },
  "language_info": {
   "codemirror_mode": {
    "name": "ipython",
    "version": 3
   },
   "file_extension": ".py",
   "mimetype": "text/x-python",
   "name": "python",
   "nbconvert_exporter": "python",
   "pygments_lexer": "ipython3",
   "version": "3.5.2"
  }
 },
 "nbformat": 4,
 "nbformat_minor": 2
}
