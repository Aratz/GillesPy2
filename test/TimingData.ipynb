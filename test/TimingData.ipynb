{
 "cells": [
  {
   "cell_type": "markdown",
   "metadata": {},
   "source": [
    "# Timing Data"
   ]
  },
  {
   "cell_type": "code",
   "execution_count": null,
   "metadata": {},
   "outputs": [],
   "source": [
    "from time_solvers import timed_trials, plot_solver_run_times\n",
    "import numpy as np"
   ]
  },
  {
   "cell_type": "code",
   "execution_count": null,
   "metadata": {},
   "outputs": [],
   "source": [
    "from gillespy2 import StochKitSolver, NumPySSASolver, OptimizedSSASolver, SSACSolver\n",
    "from gillespy2.example_models import Example, Trichloroethylene, MichaelisMenten, Schlogl\n",
    "modelList = [Example(), Trichloroethylene(), MichaelisMenten(), Schlogl()]\n",
    "solverList = [ StochKitSolver, NumPySSASolver, OptimizedSSASolver, SSACSolver]"
   ]
  },
  {
   "cell_type": "code",
   "execution_count": null,
   "metadata": {},
   "outputs": [],
   "source": [
    "trajectories = [2**i for i in range(11)]\n",
    "timing_data = timed_trials(modelList, solverList, trajectories, number_trials=30,output_file='timing_data.pkl')"
   ]
  },
  {
   "cell_type": "code",
   "execution_count": null,
   "metadata": {},
   "outputs": [],
   "source": [
    "#Ideally, we can run the timed tests once and save the results for later in a .pkl file\n",
    "import pickle\n",
    "with open('timing_data.pkl', 'rb') as f:\n",
    "    timing_data = pickle.load(f)\n",
    "    \n",
    "%matplotlib inline\n",
    "styles = {\n",
    "    'StochKitSolver' : 'r*-',\n",
    "    'SSACSolver' : 'g*-',\n",
    "    'CythonSSASolver' : 'b*-',\n",
    "    'NumPySSASolver' : 'k*-'    \n",
    "}"
   ]
  },
  {
   "cell_type": "code",
   "execution_count": null,
   "metadata": {},
   "outputs": [],
   "source": [
    "plot_solver_run_times(timing_data, line_styles=styles)"
   ]
  },
  {
   "cell_type": "code",
   "execution_count": null,
   "metadata": {},
   "outputs": [],
   "source": [
    "plot_solver_run_times(timing_data, line_styles=styles, ylabel='Log(seconds)', transformation=np.log)"
   ]
  },
  {
   "cell_type": "code",
   "execution_count": null,
   "metadata": {},
   "outputs": [],
   "source": [
    "plot_solver_run_times(timing_data, line_styles=styles, ylabel='Relative Speed to NumPySolver', baseline_solver_name=NumPySSASolver.name)"
   ]
  }
 ],
 "metadata": {
  "kernelspec": {
   "display_name": "Python 3",
   "language": "python",
   "name": "python3"
  },
  "language_info": {
   "codemirror_mode": {
    "name": "ipython",
    "version": 3
   },
   "file_extension": ".py",
   "mimetype": "text/x-python",
   "name": "python",
   "nbconvert_exporter": "python",
   "pygments_lexer": "ipython3",
   "version": "3.6.5"
  }
 },
 "nbformat": 4,
 "nbformat_minor": 2
}
