{
 "cells": [
  {
   "cell_type": "markdown",
   "metadata": {},
   "source": [
    "# Current Testing Battery"
   ]
  },
  {
   "cell_type": "code",
   "execution_count": 4,
   "metadata": {},
   "outputs": [],
   "source": [
    "import sys\n",
    "import statistics\n",
    "import numpy\n",
    "from itertools import product\n",
    "from timeit import default_timer as timer\n",
    "from tqdm import tqdm\n",
    "sys.path.append(\"/home/jackson/Research/GillesPy2/\")\n",
    "import gillespy2\n",
    "from scipy import stats"
   ]
  },
  {
   "cell_type": "code",
   "execution_count": 5,
   "metadata": {},
   "outputs": [],
   "source": [
    "from gillespy2.basic_ssa_solver import BasicSSASolver\n",
    "from gillespy2.ssa_c_solver import SSACSolver\n",
    "from gillespy2.basic_root_solver import BasicRootSolver\n",
    "from gillespy2.optimized_ssa_solver import OptimizedSSASolver\n",
    "from gillespy2.example_models import *"
   ]
  },
  {
   "cell_type": "code",
   "execution_count": 6,
   "metadata": {},
   "outputs": [
    {
     "name": "stderr",
     "output_type": "stream",
     "text": [
      "Model: Example, Solver: BasicSSASolver: 100%|██████████| 30/30 [00:01<00:00, 23.00it/s]\n",
      "Model: Example, Solver: SSACSolver: 100%|██████████| 30/30 [00:01<00:00, 19.92it/s]\n",
      "Model: Example, Solver: Basic Root Solver: 100%|██████████| 30/30 [00:01<00:00, 15.80it/s]\n",
      "Model: Example, Solver: OptimizedSSASolver: 100%|██████████| 30/30 [00:01<00:00, 22.65it/s]\n",
      "Model: Example, Solver: CythonSSASolver: 100%|██████████| 30/30 [00:01<00:00, 23.01it/s]\n",
      "Model: Trichloroethylene, Solver: BasicSSASolver: 100%|██████████| 30/30 [00:05<00:00,  5.97it/s]\n",
      "Model: Trichloroethylene, Solver: SSACSolver: 100%|██████████| 30/30 [00:01<00:00, 17.57it/s]\n",
      "Model: Trichloroethylene, Solver: Basic Root Solver: 100%|██████████| 30/30 [01:05<00:00,  2.17s/it]\n",
      "Model: Trichloroethylene, Solver: OptimizedSSASolver: 100%|██████████| 30/30 [00:03<00:00,  8.55it/s]\n",
      "Model: Trichloroethylene, Solver: CythonSSASolver: 100%|██████████| 30/30 [00:03<00:00,  7.94it/s]\n",
      "Model: Michaelis_Menten, Solver: BasicSSASolver: 100%|██████████| 30/30 [00:07<00:00,  4.18it/s]\n",
      "Model: Michaelis_Menten, Solver: SSACSolver: 100%|██████████| 30/30 [00:01<00:00, 22.66it/s]\n",
      "Model: Michaelis_Menten, Solver: Basic Root Solver: 100%|██████████| 30/30 [01:53<00:00,  3.78s/it]\n",
      "Model: Michaelis_Menten, Solver: OptimizedSSASolver: 100%|██████████| 30/30 [00:04<00:00,  7.39it/s]\n",
      "Model: Michaelis_Menten, Solver: CythonSSASolver: 100%|██████████| 30/30 [00:04<00:00,  6.91it/s]\n",
      "Model: Schlogl, Solver: BasicSSASolver: 100%|██████████| 30/30 [00:02<00:00, 14.61it/s]\n",
      "Model: Schlogl, Solver: SSACSolver: 100%|██████████| 30/30 [00:01<00:00, 18.31it/s]\n",
      "Model: Schlogl, Solver: Basic Root Solver: 100%|██████████| 30/30 [01:30<00:00,  3.02s/it]\n",
      "Model: Schlogl, Solver: OptimizedSSASolver: 100%|██████████| 30/30 [00:01<00:00, 17.24it/s]\n",
      "Model: Schlogl, Solver: CythonSSASolver: 100%|██████████| 30/30 [00:01<00:00, 17.34it/s]\n"
     ]
    }
   ],
   "source": [
    "modelList = [Example(), Trichloroethylene(), MichaelisMenten(), Schlogl()]\n",
    "\n",
    "solverList = [BasicSSASolver, SSACSolver, BasicRootSolver, OptimizedSSASolver, OptimizedSSASolver()]\n",
    "timingList = []\n",
    "\n",
    "precompile_solver = True\n",
    "\n",
    "\n",
    "for model, solver in product(modelList, solverList):\n",
    "    medianList = []\n",
    "    exterior_stats = []\n",
    "    if precompile_solver and (solver == SSACSolver or isinstance(solver, SSACSolver)): #precompile SSACSolver to save time in repated tests\n",
    "        solver = SSACSolver(model)\n",
    "    for i in tqdm(range(30), desc = f'Model: {model.name}, Solver: {solver.name}'):\n",
    "        standard_results = model.run()\n",
    "        start = timer()\n",
    "        test_results = model.run(solver=solver)\n",
    "        stop = timer()\n",
    "        medianList.append(stop-start)\n",
    "        interior_stats = []\n",
    "        for species in standard_results[0].keys():\n",
    "            if solver in [BasicSSASolver, BasicRootSolver]:\n",
    "                interior_stats.append(stats.ks_2samp(standard_results[0][species], test_results[species])[0])\n",
    "            else:\n",
    "                interior_stats.append(stats.ks_2samp(standard_results[0][species], test_results[0][species])[0])\n",
    "                \n",
    "        exterior_stats.append(statistics.median(interior_stats))\n",
    "    median = statistics.median(medianList)\n",
    "    timingList.append([model, solver, median])"
   ]
  },
  {
   "cell_type": "code",
   "execution_count": null,
   "metadata": {},
   "outputs": [],
   "source": []
  }
 ],
 "metadata": {
  "kernelspec": {
   "display_name": "Python 3",
   "language": "python",
   "name": "python3"
  },
  "language_info": {
   "codemirror_mode": {
    "name": "ipython",
    "version": 3
   },
   "file_extension": ".py",
   "mimetype": "text/x-python",
   "name": "python",
   "nbconvert_exporter": "python",
   "pygments_lexer": "ipython3",
   "version": "3.6.5"
  }
 },
 "nbformat": 4,
 "nbformat_minor": 2
}
