{
 "cells": [
  {
   "cell_type": "code",
   "execution_count": 1,
   "metadata": {},
   "outputs": [],
   "source": [
    "import sys\n"
   ]
  },
  {
   "cell_type": "code",
   "execution_count": 2,
   "metadata": {},
   "outputs": [],
   "source": [
    "#sys.path.append(\"/home/edixon1/GillesPy2/gillespy2\")\n",
    "#sys.path.append(\"/Users/ghilman/Documents/Coding/repo/GillesPy2\")\n",
    "sys.path.append(\"/home/dalton/environments/Gillespy2/Repository/gillespy2\")"
   ]
  },
  {
   "cell_type": "code",
   "execution_count": 3,
   "metadata": {
    "collapsed": false
   },
   "outputs": [
    {
     "data": {
      "text/plain": [
       "['',\n",
       " 'C:\\\\Users\\\\seanm\\\\Anaconda3\\\\python36.zip',\n",
       " 'C:\\\\Users\\\\seanm\\\\Anaconda3\\\\DLLs',\n",
       " 'C:\\\\Users\\\\seanm\\\\Anaconda3\\\\lib',\n",
       " 'C:\\\\Users\\\\seanm\\\\Anaconda3',\n",
       " 'C:\\\\Users\\\\seanm\\\\Anaconda3\\\\lib\\\\site-packages',\n",
       " 'C:\\\\Users\\\\seanm\\\\Anaconda3\\\\lib\\\\site-packages\\\\win32',\n",
       " 'C:\\\\Users\\\\seanm\\\\Anaconda3\\\\lib\\\\site-packages\\\\win32\\\\lib',\n",
       " 'C:\\\\Users\\\\seanm\\\\Anaconda3\\\\lib\\\\site-packages\\\\Pythonwin',\n",
       " 'C:\\\\Users\\\\seanm\\\\Anaconda3\\\\lib\\\\site-packages\\\\IPython\\\\extensions',\n",
       " 'C:\\\\Users\\\\seanm\\\\.ipython',\n",
       " '/home/dalton/environments/Gillespy2/Repository/gillespy2']"
      ]
     },
     "execution_count": 3,
     "metadata": {},
     "output_type": "execute_result"
    }
   ],
   "source": [
    "sys.path\n"
   ]
  },
  {
   "cell_type": "code",
   "execution_count": 4,
   "metadata": {
    "collapsed": false
   },
   "outputs": [
    {
     "name": "stdout",
     "output_type": "stream",
     "text": [
      "Using matplotlib backend: Qt5Agg\n"
     ]
    }
   ],
   "source": [
    "%matplotlib\n",
    "%matplotlib inline\n",
    "import numpy\n",
    "import matplotlib.pyplot as plt"
   ]
  },
  {
   "cell_type": "code",
   "execution_count": 5,
   "metadata": {
    "collapsed": false
   },
   "outputs": [
    {
     "name": "stdout",
     "output_type": "stream",
     "text": [
      "Unable to use Cython optimized SSA:\n",
      "Error:No module named 'cython_ssa_solver'\n"
     ]
    }
   ],
   "source": [
    "import gillespy2\n",
    "class MichaelisMenten(gillespy2.Model):\n",
    "     def __init__(self, parameter_values=None):\n",
    "            #initialize Model\n",
    "            gillespy2.Model.__init__(self, name=\"Michaelis_Menten\")\n",
    "            \n",
    "            #parameters\n",
    "            rate1 = gillespy2.Parameter(name='rate1', expression= 0.0017)\n",
    "            rate2 = gillespy2.Parameter(name='rate2', expression= 0.5)\n",
    "            rate3 = gillespy2.Parameter(name='rate3', expression = 0.1)\n",
    "            self.add_parameter([rate1,rate2,rate3])\n",
    "            \n",
    "            #Species\n",
    "            A = gillespy2.Species(name='A', initial_value=301)\n",
    "            B = gillespy2.Species(name='B', initial_value=120)\n",
    "            C = gillespy2.Species(name='C', initial_value=0)\n",
    "            D = gillespy2.Species(name='D', initial_value=0)\n",
    "            self.add_species([A, B, C, D])\n",
    "            \n",
    "            #reactions\n",
    "            r1 = gillespy2.Reaction(name=\"r1\",reactants={A:1,B:1}, products={C:1},\n",
    "                   rate=rate1)\n",
    "            \n",
    "            r2 = gillespy2.Reaction(name=\"r2\",reactants={C:1}, products={A:1,B:1},\n",
    "                    rate=rate2)\n",
    "            \n",
    "            r3 = gillespy2.Reaction(name=\"r3\",reactants={C:1}, products={B:1,D:1},\n",
    "                    rate=rate3)\n",
    "            self.add_reaction([r1,r2,r3])\n",
    "            self.timespan(numpy.linspace(0,100,101))"
   ]
  },
  {
   "cell_type": "code",
   "execution_count": 6,
   "metadata": {
    "collapsed": false
   },
   "outputs": [
    {
     "ename": "ModuleNotFoundError",
     "evalue": "No module named 'optimized_ssa_solver'",
     "output_type": "error",
     "traceback": [
      "\u001b[1;31m---------------------------------------------------------------------------\u001b[0m",
      "\u001b[1;31mModuleNotFoundError\u001b[0m                       Traceback (most recent call last)",
      "\u001b[1;32m<ipython-input-6-794411abf12f>\u001b[0m in \u001b[0;36m<module>\u001b[1;34m()\u001b[0m\n\u001b[0;32m      1\u001b[0m \u001b[1;32mimport\u001b[0m \u001b[0mpyximport\u001b[0m\u001b[1;33m\u001b[0m\u001b[0m\n\u001b[1;32m----> 2\u001b[1;33m \u001b[1;32mfrom\u001b[0m \u001b[0moptimized_ssa_solver\u001b[0m \u001b[1;32mimport\u001b[0m \u001b[0mSSASolver\u001b[0m\u001b[1;33m\u001b[0m\u001b[0m\n\u001b[0m\u001b[0;32m      3\u001b[0m \u001b[0mmodel\u001b[0m \u001b[1;33m=\u001b[0m \u001b[0mMichaelisMenten\u001b[0m\u001b[1;33m(\u001b[0m\u001b[1;33m)\u001b[0m\u001b[1;33m\u001b[0m\u001b[0m\n\u001b[0;32m      4\u001b[0m \u001b[0mresults\u001b[0m \u001b[1;33m=\u001b[0m \u001b[0mmodel\u001b[0m\u001b[1;33m.\u001b[0m\u001b[0mrun\u001b[0m\u001b[1;33m(\u001b[0m\u001b[0mshow_labels\u001b[0m\u001b[1;33m=\u001b[0m\u001b[1;32mFalse\u001b[0m\u001b[1;33m)\u001b[0m\u001b[1;33m\u001b[0m\u001b[0m\n\u001b[0;32m      5\u001b[0m \u001b[0mdresults\u001b[0m \u001b[1;33m=\u001b[0m \u001b[0mmodel\u001b[0m\u001b[1;33m.\u001b[0m\u001b[0mrun\u001b[0m\u001b[1;33m(\u001b[0m\u001b[0msolver\u001b[0m\u001b[1;33m=\u001b[0m\u001b[0mSSASolver\u001b[0m\u001b[1;33m,\u001b[0m \u001b[0mshow_labels\u001b[0m\u001b[1;33m=\u001b[0m\u001b[1;32mFalse\u001b[0m\u001b[1;33m)\u001b[0m\u001b[1;33m\u001b[0m\u001b[0m\n",
      "\u001b[1;31mModuleNotFoundError\u001b[0m: No module named 'optimized_ssa_solver'"
     ]
    }
   ],
   "source": [
    "import pyximport\n",
    "from optimized_ssa_solver import SSASolver\n",
    "model = MichaelisMenten()\n",
    "results = model.run(show_labels=False)\n",
    "dresults = model.run(solver=SSASolver, show_labels=False)\n",
    "plt.plot(dresults[0][:,0],dresults[0][:,1],'--r', label='Substrate')\n",
    "plt.plot(dresults[0][:,0],dresults[0][:,4],'--b', label='Product')\n",
    "plt.plot(results[0][:,0],results[0][:,1],'-r', label='Substrate')\n",
    "plt.plot(results[0][:,0],results[0][:,4],'-b', label='Product')\n",
    "plt.plot([0],[11])\n",
    "plt.legend(loc='best')"
   ]
  },
  {
   "cell_type": "code",
   "execution_count": null,
   "metadata": {},
   "outputs": [],
   "source": [
    "import time\n",
    "\n",
    "from ssa_c_solver import CSolver\n",
    "import numpy as np\n",
    "log2_trajectories_max = 10\n",
    "loops = 10\n",
    "solvers = [CSolver]\n",
    "timing_data = np.zeros((log2_trajectories_max+1,len(solvers)+1))\n",
    "for n in range(0,log2_trajectories_max+1):\n",
    "    timing_data[n, 0] = 2**n\n",
    "    for i in range(loops):\n",
    "        for solver in range(len(solvers)):\n",
    "            time_start = time.perf_counter()\n",
    "            model.run(solver=solvers[solver], show_labels=False, number_of_trajectories=2**n)\n",
    "            time_end = time.perf_counter()\n",
    "            timing_data[n, solver+1] += (time_end - time_start)/loops\n",
    "    print(timing_data[n,:])\n",
    "print(timing_data)"
   ]
  },
  {
   "cell_type": "code",
   "execution_count": 3,
   "metadata": {
    "collapsed": false
   },
   "outputs": [
    {
     "ename": "NameError",
     "evalue": "name 'plt' is not defined",
     "output_type": "error",
     "traceback": [
      "\u001b[1;31m---------------------------------------------------------------------------\u001b[0m",
      "\u001b[1;31mNameError\u001b[0m                                 Traceback (most recent call last)",
      "\u001b[1;32m<ipython-input-3-c996f6aa88f3>\u001b[0m in \u001b[0;36m<module>\u001b[1;34m()\u001b[0m\n\u001b[1;32m----> 1\u001b[1;33m \u001b[0mplt\u001b[0m\u001b[1;33m.\u001b[0m\u001b[0mplot\u001b[0m\u001b[1;33m(\u001b[0m\u001b[0mtiming_data\u001b[0m\u001b[1;33m[\u001b[0m\u001b[1;33m:\u001b[0m\u001b[1;33m,\u001b[0m\u001b[1;36m0\u001b[0m\u001b[1;33m]\u001b[0m\u001b[1;33m,\u001b[0m\u001b[0mtiming_data\u001b[0m\u001b[1;33m[\u001b[0m\u001b[1;33m:\u001b[0m\u001b[1;33m,\u001b[0m\u001b[1;36m1\u001b[0m\u001b[1;33m]\u001b[0m\u001b[1;33m,\u001b[0m\u001b[1;34m'-r'\u001b[0m\u001b[1;33m,\u001b[0m \u001b[0mlabel\u001b[0m\u001b[1;33m=\u001b[0m\u001b[1;34m'StochKit'\u001b[0m\u001b[1;33m)\u001b[0m\u001b[1;33m\u001b[0m\u001b[0m\n\u001b[0m\u001b[0;32m      2\u001b[0m \u001b[0mplt\u001b[0m\u001b[1;33m.\u001b[0m\u001b[0mplot\u001b[0m\u001b[1;33m(\u001b[0m\u001b[0mtiming_data\u001b[0m\u001b[1;33m[\u001b[0m\u001b[1;33m:\u001b[0m\u001b[1;33m,\u001b[0m\u001b[1;36m0\u001b[0m\u001b[1;33m]\u001b[0m\u001b[1;33m,\u001b[0m\u001b[0mtiming_data\u001b[0m\u001b[1;33m[\u001b[0m\u001b[1;33m:\u001b[0m\u001b[1;33m,\u001b[0m\u001b[1;36m2\u001b[0m\u001b[1;33m]\u001b[0m\u001b[1;33m,\u001b[0m\u001b[1;34m'-b'\u001b[0m\u001b[1;33m,\u001b[0m \u001b[0mlabel\u001b[0m\u001b[1;33m=\u001b[0m\u001b[1;34m'Cython'\u001b[0m\u001b[1;33m)\u001b[0m\u001b[1;33m\u001b[0m\u001b[0m\n\u001b[0;32m      3\u001b[0m \u001b[0mplt\u001b[0m\u001b[1;33m.\u001b[0m\u001b[0mplot\u001b[0m\u001b[1;33m(\u001b[0m\u001b[0mtiming_data\u001b[0m\u001b[1;33m[\u001b[0m\u001b[1;33m:\u001b[0m\u001b[1;33m,\u001b[0m\u001b[1;36m0\u001b[0m\u001b[1;33m]\u001b[0m\u001b[1;33m,\u001b[0m\u001b[0mtiming_data\u001b[0m\u001b[1;33m[\u001b[0m\u001b[1;33m:\u001b[0m\u001b[1;33m,\u001b[0m\u001b[1;36m3\u001b[0m\u001b[1;33m]\u001b[0m\u001b[1;33m,\u001b[0m\u001b[1;34m'-g'\u001b[0m\u001b[1;33m,\u001b[0m \u001b[0mlabel\u001b[0m\u001b[1;33m=\u001b[0m\u001b[1;34m'Numpy'\u001b[0m\u001b[1;33m)\u001b[0m\u001b[1;33m\u001b[0m\u001b[0m\n\u001b[0;32m      4\u001b[0m \u001b[0mplt\u001b[0m\u001b[1;33m.\u001b[0m\u001b[0mplot\u001b[0m\u001b[1;33m(\u001b[0m\u001b[0mtiming_data\u001b[0m\u001b[1;33m[\u001b[0m\u001b[1;33m:\u001b[0m\u001b[1;33m,\u001b[0m\u001b[1;36m0\u001b[0m\u001b[1;33m]\u001b[0m\u001b[1;33m,\u001b[0m\u001b[0mtiming_data\u001b[0m\u001b[1;33m[\u001b[0m\u001b[1;33m:\u001b[0m\u001b[1;33m,\u001b[0m\u001b[1;36m4\u001b[0m\u001b[1;33m]\u001b[0m\u001b[1;33m,\u001b[0m\u001b[1;34m'-k'\u001b[0m\u001b[1;33m,\u001b[0m \u001b[0mlabel\u001b[0m\u001b[1;33m=\u001b[0m\u001b[1;34m'Python'\u001b[0m\u001b[1;33m)\u001b[0m\u001b[1;33m\u001b[0m\u001b[0m\n\u001b[0;32m      5\u001b[0m \u001b[0mplt\u001b[0m\u001b[1;33m.\u001b[0m\u001b[0mtitle\u001b[0m\u001b[1;33m(\u001b[0m\u001b[1;34m\"SSA Simulation Time\"\u001b[0m\u001b[1;33m)\u001b[0m\u001b[1;33m\u001b[0m\u001b[0m\n",
      "\u001b[1;31mNameError\u001b[0m: name 'plt' is not defined"
     ]
    }
   ],
   "source": [
    "plt.plot(timing_data[:,0],timing_data[:,1],'-r', label='StochKit')\n",
    "plt.plot(timing_data[:,0],timing_data[:,2],'-b', label='Cython')\n",
    "plt.plot(timing_data[:,0],timing_data[:,3],'-g', label='Numpy')\n",
    "plt.plot(timing_data[:,0],timing_data[:,4],'-k', label='Python')\n",
    "plt.title(\"SSA Simulation Time\")\n",
    "plt.ylabel(\"Seconds\")\n",
    "plt.xlabel(\"Trajectories\")\n",
    "plt.legend(loc='best')\n",
    "plt.savefig(\"SSA_Comparisons3.png\")"
   ]
  },
  {
   "cell_type": "code",
   "execution_count": null,
   "metadata": {},
   "outputs": [],
   "source": []
  },
  {
   "cell_type": "code",
   "execution_count": null,
   "metadata": {},
   "outputs": [],
   "source": []
  }
 ],
 "metadata": {
  "kernelspec": {
   "display_name": "Python 3",
   "language": "python",
   "name": "python3"
  },
  "language_info": {
   "codemirror_mode": {
    "name": "ipython",
    "version": 3
   },
   "file_extension": ".py",
   "mimetype": "text/x-python",
   "name": "python",
   "nbconvert_exporter": "python",
   "pygments_lexer": "ipython3",
   "version": "3.6.4"
  }
 },
 "nbformat": 4,
 "nbformat_minor": 2
}
