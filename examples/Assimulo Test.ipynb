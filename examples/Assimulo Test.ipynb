{
 "cells": [
  {
   "cell_type": "code",
   "execution_count": 11,
   "metadata": {},
   "outputs": [],
   "source": [
    "import numpy as N\n",
    "import pylab as P\n",
    "\n",
    "def f(t,y, a):\n",
    "#     A =N.array([[0,1],[-2,-1]])\n",
    "#     yd=N.dot(A,y)\n",
    "    yd = a\n",
    "\n",
    "    return yd"
   ]
  },
  {
   "cell_type": "code",
   "execution_count": 12,
   "metadata": {},
   "outputs": [],
   "source": [
    "# y0=N.array([1.0,1.0])\n",
    "y0 = 0\n",
    "t0=0.0\n",
    "a = 10"
   ]
  },
  {
   "cell_type": "code",
   "execution_count": 13,
   "metadata": {},
   "outputs": [],
   "source": [
    "from assimulo.problem import Explicit_Problem  #Imports the problem formulation from Assimulo\n",
    "\n",
    "b = 5\n",
    "rhs = Explicit_Problem(f, y0, t0, a) #Create an Assimulo problem\n",
    "rhs.name = 'Linear Test ODE'        #Specifies the name of problem (optional)"
   ]
  },
  {
   "cell_type": "code",
   "execution_count": 14,
   "metadata": {},
   "outputs": [],
   "source": [
    "from assimulo.solvers import CVode #Imports the solver CVode from Assimulo\n",
    "\n",
    "sim = CVode(rhs)"
   ]
  },
  {
   "cell_type": "code",
   "execution_count": 15,
   "metadata": {},
   "outputs": [
    {
     "name": "stdout",
     "output_type": "stream",
     "text": [
      "Final Run Statistics: Linear Test ODE \n",
      "\n",
      " Number of steps                                       : 8\n",
      " Number of function evaluations                        : 20\n",
      " Number of Jacobian evaluations                        : 1\n",
      " Number of function eval. due to Jacobian eval.        : 1\n",
      " Number of error test failures                         : 0\n",
      " Number of nonlinear iterations                        : 8\n",
      " Number of nonlinear convergence failures              : 0\n",
      " Number of sensitivity evaluations                     : 12\n",
      " Number of function eval. due to sensitivity eval.     : 24\n",
      " Number of sensitivity nonlinear iterations            : 8\n",
      " Number of sensitivity nonlinear convergence failures  : 0\n",
      " Number of sensitivity error test failures             : 0\n",
      "\n",
      "Sensitivity options:\n",
      "\n",
      " Method                   : STAGGERED\n",
      " Difference quotient type : CENTERED\n",
      " Suppress Sens            : False\n",
      "\n",
      "Solver options:\n",
      "\n",
      " Solver                   : CVode\n",
      " Linear multistep method  : BDF\n",
      " Nonlinear solver         : Newton\n",
      " Linear solver type       : DENSE\n",
      " Maximal order            : 5\n",
      " Tolerances (absolute)    : 1e-06\n",
      " Tolerances (relative)    : 1e-06\n",
      "\n",
      "Simulation interval    : 0.0 - 10.0 seconds.\n",
      "Elapsed simulation time: 0.0003622398454439235 seconds.\n"
     ]
    }
   ],
   "source": [
    "tfinal = 10.0        #Specify the final time\n",
    "\n",
    "t, y = sim.simulate(tfinal) #Use the .simulate method to simulate and provide the final time"
   ]
  },
  {
   "cell_type": "code",
   "execution_count": 16,
   "metadata": {},
   "outputs": [
    {
     "data": {
      "image/png": "[encoded data removed]",
      "text/plain": [
       "<Figure size 432x288 with 1 Axes>"
      ]
     },
     "metadata": {},
     "output_type": "display_data"
    }
   ],
   "source": [
    "sim.plot()"
   ]
  },
  {
   "cell_type": "code",
   "execution_count": null,
   "metadata": {},
   "outputs": [],
   "source": []
  }
 ],
 "metadata": {
  "kernelspec": {
   "display_name": "Python 3",
   "language": "python",
   "name": "python3"
  },
  "language_info": {
   "codemirror_mode": {
    "name": "ipython",
    "version": 3
   },
   "file_extension": ".py",
   "mimetype": "text/x-python",
   "name": "python",
   "nbconvert_exporter": "python",
   "pygments_lexer": "ipython3",
   "version": "3.5.5"
  }
 },
 "nbformat": 4,
 "nbformat_minor": 2
}
