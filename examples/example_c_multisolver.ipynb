{
 "cells": [
  {
   "cell_type": "markdown",
   "metadata": {},
   "source": [
    "# SSA C Multisolver (KS Solver)\n",
    "\n",
    "## Purpose:\n",
    "#### The SSA C Multisolver is a wrapper for the C-based SSA solver.  The function of this solver is to run several instances of the C SSA solver concurrently until a point of convergence is reached.\n",
    "\n",
    "## Details:\n",
    "#### This convergence is determined by a kolmogorov-smirnov test which is calculated every 100 trajectories.  Once the system reaches it's desired alpha level, it will return the results of all trajectories to the user and display the total number of runs required to reach that convergence."
   ]
  },
  {
   "cell_type": "markdown",
   "metadata": {},
   "source": [
    "***\n",
    "#### Basic Imports"
   ]
  },
  {
   "cell_type": "code",
   "execution_count": 1,
   "metadata": {},
   "outputs": [],
   "source": [
    "import sys\n",
    "import os\n"
   ]
  },
  {
   "cell_type": "code",
   "execution_count": 2,
   "metadata": {},
   "outputs": [
    {
     "name": "stdout",
     "output_type": "stream",
     "text": [
      "['', 'C:\\\\Users\\\\seanm\\\\Anaconda3\\\\python36.zip', 'C:\\\\Users\\\\seanm\\\\Anaconda3\\\\DLLs', 'C:\\\\Users\\\\seanm\\\\Anaconda3\\\\lib', 'C:\\\\Users\\\\seanm\\\\Anaconda3', 'C:\\\\Users\\\\seanm\\\\Anaconda3\\\\lib\\\\site-packages', 'C:\\\\Users\\\\seanm\\\\Anaconda3\\\\lib\\\\site-packages\\\\win32', 'C:\\\\Users\\\\seanm\\\\Anaconda3\\\\lib\\\\site-packages\\\\win32\\\\lib', 'C:\\\\Users\\\\seanm\\\\Anaconda3\\\\lib\\\\site-packages\\\\Pythonwin', 'C:\\\\Users\\\\seanm\\\\Anaconda3\\\\lib\\\\site-packages\\\\IPython\\\\extensions', 'C:\\\\Users\\\\seanm\\\\.ipython', 'C:\\\\Users\\\\seanm\\\\OneDrive\\\\Documents\\\\Research\\\\GillesPy2']\n"
     ]
    }
   ],
   "source": [
    "sys.path.append(os.path.abspath(os.path.join(os.getcwd(), os.pardir)))\n",
    "print(sys.path)"
   ]
  },
  {
   "cell_type": "code",
   "execution_count": 3,
   "metadata": {},
   "outputs": [
    {
     "data": {
      "text/plain": [
       "['',\n",
       " 'C:\\\\Users\\\\seanm\\\\Anaconda3\\\\python36.zip',\n",
       " 'C:\\\\Users\\\\seanm\\\\Anaconda3\\\\DLLs',\n",
       " 'C:\\\\Users\\\\seanm\\\\Anaconda3\\\\lib',\n",
       " 'C:\\\\Users\\\\seanm\\\\Anaconda3',\n",
       " 'C:\\\\Users\\\\seanm\\\\Anaconda3\\\\lib\\\\site-packages',\n",
       " 'C:\\\\Users\\\\seanm\\\\Anaconda3\\\\lib\\\\site-packages\\\\win32',\n",
       " 'C:\\\\Users\\\\seanm\\\\Anaconda3\\\\lib\\\\site-packages\\\\win32\\\\lib',\n",
       " 'C:\\\\Users\\\\seanm\\\\Anaconda3\\\\lib\\\\site-packages\\\\Pythonwin',\n",
       " 'C:\\\\Users\\\\seanm\\\\Anaconda3\\\\lib\\\\site-packages\\\\IPython\\\\extensions',\n",
       " 'C:\\\\Users\\\\seanm\\\\.ipython',\n",
       " 'C:\\\\Users\\\\seanm\\\\OneDrive\\\\Documents\\\\Research\\\\GillesPy2']"
      ]
     },
     "execution_count": 3,
     "metadata": {},
     "output_type": "execute_result"
    }
   ],
   "source": [
    "sys.path\n"
   ]
  },
  {
   "cell_type": "code",
   "execution_count": 4,
   "metadata": {},
   "outputs": [
    {
     "name": "stdout",
     "output_type": "stream",
     "text": [
      "Using matplotlib backend: Qt5Agg\n"
     ]
    }
   ],
   "source": [
    "%matplotlib\n",
    "%matplotlib inline\n",
    "import numpy\n",
    "import matplotlib.pyplot as plt"
   ]
  },
  {
   "cell_type": "markdown",
   "metadata": {},
   "source": [
    "***\n",
    "### Creating Example Model"
   ]
  },
  {
   "cell_type": "code",
   "execution_count": 5,
   "metadata": {},
   "outputs": [
    {
     "name": "stdout",
     "output_type": "stream",
     "text": [
      "Unable to use Cython optimized SSA:\n",
      "Error:Building module gillespy2.cython_ssa_solver failed: ['distutils.errors.DistutilsPlatformError: Unable to find vcvarsall.bat\\n']\n"
     ]
    }
   ],
   "source": [
    "import gillespy2\n",
    "class MichaelisMenten(gillespy2.Model):\n",
    "     def __init__(self, parameter_values=None):\n",
    "            #initialize Model\n",
    "            gillespy2.Model.__init__(self, name=\"Michaelis_Menten\")\n",
    "            \n",
    "            #parameters\n",
    "            rate1 = gillespy2.Parameter(name='rate1', expression= 0.0017)\n",
    "            rate2 = gillespy2.Parameter(name='rate2', expression= 0.5)\n",
    "            rate3 = gillespy2.Parameter(name='rate3', expression = 0.1)\n",
    "            self.add_parameter([rate1,rate2,rate3])\n",
    "            \n",
    "            #Species\n",
    "            A = gillespy2.Species(name='A', initial_value=301)\n",
    "            B = gillespy2.Species(name='B', initial_value=120)\n",
    "            C = gillespy2.Species(name='C', initial_value=0)\n",
    "            D = gillespy2.Species(name='D', initial_value=0)\n",
    "            self.add_species([A, B, C, D])\n",
    "            \n",
    "            #reactions\n",
    "            r1 = gillespy2.Reaction(name=\"r1\",reactants={A:1,B:1}, products={C:1},\n",
    "                   rate=rate1)\n",
    "            \n",
    "            r2 = gillespy2.Reaction(name=\"r2\",reactants={C:1}, products={A:1,B:1},\n",
    "                    rate=rate2)\n",
    "            \n",
    "            r3 = gillespy2.Reaction(name=\"r3\",reactants={C:1}, products={B:1,D:1},\n",
    "                    rate=rate3)\n",
    "            self.add_reaction([r1,r2,r3])\n",
    "            self.timespan(numpy.linspace(0,100,101))"
   ]
  },
  {
   "cell_type": "code",
   "execution_count": 6,
   "metadata": {},
   "outputs": [],
   "source": [
    "model = MichaelisMenten()\n"
   ]
  },
  {
   "cell_type": "code",
   "execution_count": 7,
   "metadata": {},
   "outputs": [],
   "source": [
    "from gillespy2.ssa_c_multisolver import SSACMultiSolver"
   ]
  },
  {
   "cell_type": "markdown",
   "metadata": {},
   "source": [
    "***\n",
    "# Standard Running Process:\n",
    "\n",
    "### The solver can be called in-line with model.run(solver=SSACMultiSolver) which will run with default values.\n",
    "\n",
    "### List of Keyword Arguments:\n",
    "- model: the model associated with the solver\n",
    "- output_directory: specified directory for compiling c files\n",
    "- delete_directory: specifies whether or not to delete directory after run\n",
    "- number_of_processes: how many process thread to be used for running simulations\n",
    "- alpha: desired ks-distance to be considered \"converged\"\n",
    "\n",
    "### Defaults:\n",
    "- model=None\n",
    "- output_directory=None\n",
    "- delete_directory=True\n",
    "- number_of_processes=4\n",
    "- alpha=0.01"
   ]
  },
  {
   "cell_type": "code",
   "execution_count": 8,
   "metadata": {
    "scrolled": true
   },
   "outputs": [
    {
     "name": "stdout",
     "output_type": "stream",
     "text": [
      "TOTAL Runs: 69400\n"
     ]
    }
   ],
   "source": [
    "results = model.run(solver = SSACMultiSolver, show_labels=False)"
   ]
  },
  {
   "cell_type": "markdown",
   "metadata": {},
   "source": [
    "### The Solver can also be customized by instantiating it separately"
   ]
  },
  {
   "cell_type": "code",
   "execution_count": 9,
   "metadata": {},
   "outputs": [
    {
     "name": "stdout",
     "output_type": "stream",
     "text": [
      "TOTAL Runs: 1100\n"
     ]
    }
   ],
   "source": [
    "solver1 = SSACMultiSolver(model=model, alpha=.1, number_of_processes=64)\n",
    "results = model.run(solver=solver1)"
   ]
  },
  {
   "cell_type": "markdown",
   "metadata": {},
   "source": [
    " ### or in-line"
   ]
  },
  {
   "cell_type": "code",
   "execution_count": 10,
   "metadata": {
    "scrolled": true
   },
   "outputs": [
    {
     "name": "stdout",
     "output_type": "stream",
     "text": [
      "TOTAL Runs: 3200\n"
     ]
    }
   ],
   "source": [
    "results = model.run(solver=SSACMultiSolver(model=model, alpha=.05), show_labels=False)"
   ]
  },
  {
   "cell_type": "markdown",
   "metadata": {},
   "source": [
    "***\n",
    "# Results:\n",
    "\n",
    "### Results are formatted as a 3 dimensional array: __results__<font color=red>[trajectory]<font color=green>[timestamp]<font color=blue>[species]"
   ]
  },
  {
   "cell_type": "code",
   "execution_count": 11,
   "metadata": {},
   "outputs": [
    {
     "name": "stdout",
     "output_type": "stream",
     "text": [
      "[[[  0.       301.       120.         0.         0.      ]\n",
      "  [  1.010101 262.        84.        36.         3.      ]\n",
      "  [  2.020202 241.        65.        55.         5.      ]\n",
      "  ...\n",
      "  [ 97.979798  29.       116.         4.       268.      ]\n",
      "  [ 98.989899  26.       114.         6.       269.      ]\n",
      "  [100.        26.       114.         6.       269.      ]]\n",
      "\n",
      " [[  0.       301.       120.         0.         0.      ]\n",
      "  [  1.010101 269.        91.        29.         3.      ]\n",
      "  [  2.020202 253.        76.        44.         4.      ]\n",
      "  ...\n",
      "  [ 97.979798  40.       107.        13.       248.      ]\n",
      "  [ 98.989899  36.       103.        17.       248.      ]\n",
      "  [100.        35.       103.        17.       249.      ]]\n",
      "\n",
      " [[  0.       301.       120.         0.         0.      ]\n",
      "  [  1.010101 267.        90.        30.         4.      ]\n",
      "  [  2.020202 256.        80.        40.         5.      ]\n",
      "  ...\n",
      "  [ 97.979798  30.       110.        10.       261.      ]\n",
      "  [ 98.989899  32.       112.         8.       261.      ]\n",
      "  [100.        32.       114.         6.       263.      ]]\n",
      "\n",
      " ...\n",
      "\n",
      " [[  0.       301.       120.         0.         0.      ]\n",
      "  [  1.010101 262.        83.        37.         2.      ]\n",
      "  [  2.020202 257.        80.        40.         4.      ]\n",
      "  ...\n",
      "  [ 97.979798  28.       112.         8.       265.      ]\n",
      "  [ 98.989899  28.       116.         4.       269.      ]\n",
      "  [100.        24.       113.         7.       270.      ]]\n",
      "\n",
      " [[  0.       301.       120.         0.         0.      ]\n",
      "  [  1.010101 264.        84.        36.         1.      ]\n",
      "  [  2.020202 250.        74.        46.         5.      ]\n",
      "  ...\n",
      "  [ 97.979798  26.       109.        11.       264.      ]\n",
      "  [ 98.989899  26.       110.        10.       265.      ]\n",
      "  [100.        27.       112.         8.       266.      ]]\n",
      "\n",
      " [[  0.       301.       120.         0.         0.      ]\n",
      "  [  1.010101 267.        88.        32.         2.      ]\n",
      "  [  2.020202 250.        76.        44.         7.      ]\n",
      "  ...\n",
      "  [ 97.979798  32.       111.         9.       260.      ]\n",
      "  [ 98.989899  33.       113.         7.       261.      ]\n",
      "  [100.        31.       111.         9.       261.      ]]]\n"
     ]
    }
   ],
   "source": [
    "print(results)"
   ]
  },
  {
   "cell_type": "code",
   "execution_count": 12,
   "metadata": {},
   "outputs": [
    {
     "data": {
      "text/plain": [
       "[<matplotlib.lines.Line2D at 0x1fb99b3bbe0>]"
      ]
     },
     "execution_count": 12,
     "metadata": {},
     "output_type": "execute_result"
    },
    {
     "data": {
      "image/png": "[encoded data removed]",
      "text/plain": [
       "<matplotlib.figure.Figure at 0x1fb8c8c1e10>"
      ]
     },
     "metadata": {},
     "output_type": "display_data"
    }
   ],
   "source": [
    "for i in range (len(results)):\n",
    "    plt.plot(results[0][:,0],results[i][:,1],'-r', alpha=0.2, label='Substrate')\n",
    "    plt.plot(results[0][:,0],results[i][:,2],'-y', alpha=0.2, label='Enzyme')\n",
    "    plt.plot(results[0][:,0],results[i][:,3],'-g', alpha=0.2, label='Complex')\n",
    "    plt.plot(results[0][:,0],results[i][:,4],'-b', alpha=0.2, label='Product')\n",
    "    if i==0:\n",
    "        plt.legend(loc='best')\n",
    "plt.plot(results[0][:,0],results[0][:,1],'-w')\n",
    "plt.plot(results[0][:,0],results[0][:,2],'-w')\n",
    "plt.plot(results[0][:,0],results[0][:,3],'-w')\n",
    "plt.plot(results[0][:,0],results[0][:,4],'-w')"
   ]
  },
  {
   "cell_type": "code",
   "execution_count": 13,
   "metadata": {},
   "outputs": [
    {
     "data": {
      "text/plain": [
       "(array([111., 425., 720., 850., 629., 310., 107.,  24.,   3.,   1.,   0.,\n",
       "          0.,   0.,   0.,   0.,   0.,   0.,   0.,   0.]),\n",
       " array([ 50,  55,  60,  65,  70,  75,  80,  85,  90,  95, 100, 105, 110,\n",
       "        115, 120, 125, 130, 135, 140, 145]),\n",
       " <a list of 19 Patch objects>)"
      ]
     },
     "execution_count": 13,
     "metadata": {},
     "output_type": "execute_result"
    },
    {
     "data": {
      "image/png": "[encoded data removed]",
      "text/plain": [
       "<matplotlib.figure.Figure at 0x1fb8c8c1908>"
      ]
     },
     "metadata": {},
     "output_type": "display_data"
    }
   ],
   "source": [
    "plt.hist(results[:,:][:,15][:,1], color='r', bins=(range(50, 300, 5)))\n",
    "plt.hist(results[:,:][:,15][:,2], color='y', bins=(range(50, 150, 5)))\n",
    "plt.hist(results[:,:][:,15][:,3], color='g', bins=(range(50, 150, 5)))\n",
    "plt.hist(results[:,:][:,15][:,4], color='b', bins=(range(50, 150, 5)))"
   ]
  },
  {
   "cell_type": "markdown",
   "metadata": {},
   "source": [
    "***\n",
    "# DETAILS:"
   ]
  },
  {
   "cell_type": "code",
   "execution_count": null,
   "metadata": {},
   "outputs": [],
   "source": []
  }
 ],
 "metadata": {
  "kernelspec": {
   "display_name": "Python 3",
   "language": "python",
   "name": "python3"
  },
  "language_info": {
   "codemirror_mode": {
    "name": "ipython",
    "version": 3
   },
   "file_extension": ".py",
   "mimetype": "text/x-python",
   "name": "python",
   "nbconvert_exporter": "python",
   "pygments_lexer": "ipython3",
   "version": "3.6.4"
  }
 },
 "nbformat": 4,
 "nbformat_minor": 2
}
