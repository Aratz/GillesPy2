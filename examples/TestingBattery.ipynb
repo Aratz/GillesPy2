{
 "cells": [
  {
   "cell_type": "markdown",
   "metadata": {},
   "source": [
    "# This is an attempt to build a testing battery."
   ]
  },
  {
   "cell_type": "code",
   "execution_count": 3,
   "metadata": {},
   "outputs": [
    {
     "name": "stdout",
     "output_type": "stream",
     "text": [
      "['', '/usr/lib/python35.zip', '/usr/lib/python3.5', '/usr/lib/python3.5/plat-x86_64-linux-gnu', '/usr/lib/python3.5/lib-dynload', '/home/Seanebum/.local/lib/python3.5/site-packages', '/usr/local/lib/python3.5/dist-packages', '/usr/lib/python3/dist-packages', '/home/Seanebum/.local/lib/python3.5/site-packages/IPython/extensions', '/home/Seanebum/.ipython', '/mnt/c/Users/seanm/OneDrive/Documents/Research/TauHybridSolver/GillesPy2']\n"
     ]
    },
    {
     "name": "stderr",
     "output_type": "stream",
     "text": [
      "WARNING:root: Unable to use Cython optimized SSA: No module named 'pyximport'\n",
      "The performance of this package can be significantly increased if you install Cython.\n"
     ]
    }
   ],
   "source": [
    "import sys, os\n",
    "import statistics\n",
    "from itertools import product\n",
    "from timeit import default_timer as timer\n",
    "from tqdm import tqdm\n",
    "sys.path.append(os.path.abspath(os.path.join(os.getcwd(), os.pardir)))\n",
    "print(sys.path)\n",
    "import gillespy2\n",
    "from scipy import stats\n",
    "import numpy"
   ]
  },
  {
   "cell_type": "code",
   "execution_count": 4,
   "metadata": {},
   "outputs": [],
   "source": [
    "#Doing this in known order of good solvers. I imagine I'm going to have to nudge some stuff.\n",
    "#Basic ODE Is messed up. I think I remember looking into this before and it not being super difficult.\n",
    "#Linting the Optimized SSA Solver stuff, coercing into standard naming pattern. (I consider Basic SSA the standard.)\n",
    "#Ask about Dalton?\n",
    "#C stuff does not work with my plotting function! It uses a list and not a dictionary. Hooray.....\n",
    "#Removed extraneous imports from tau_leaping basic.\n",
    "#Basic_Tau_Leaping doesn't work. I know it's status is temptuous.\n",
    "#Regular Tau Hangs (I threw 30 minutes at it for the MM and TCE model, which are generally instataneous)\n",
    "#Final List before going to research meeting is SSA, Root, and Optimized\n",
    "from gillespy2.basic_ssa_solver import BasicSSASolver\n",
    "from gillespy2.ssa_c_solver import SSACSolver\n",
    "from gillespy2.basic_tau_leaping_solver import BasicTauLeapingSolver\n",
    "from gillespy2.basic_tau_hybrid_solver import BasicTauHybridSolver"
   ]
  },
  {
   "cell_type": "code",
   "execution_count": 5,
   "metadata": {},
   "outputs": [],
   "source": [
    "class MichaelisMenten(gillespy2.Model):\n",
    "     def __init__(self, parameter_values=None):\n",
    "            #initialize Model\n",
    "            gillespy2.Model.__init__(self, name=\"Michaelis_Menten\")\n",
    "            \n",
    "            #parameters\n",
    "            rate1 = gillespy2.Parameter(name='rate1', expression= 0.0017)\n",
    "            rate2 = gillespy2.Parameter(name='rate2', expression= 0.0001)\n",
    "            rate3 = gillespy2.Parameter(name='rate3', expression = 0.1)\n",
    "            self.add_parameter([rate1,rate2,rate3])\n",
    "            \n",
    "            #Species\n",
    "            A = gillespy2.Species(name='A', initial_value=301)\n",
    "            B = gillespy2.Species(name='B', initial_value=120)\n",
    "            C = gillespy2.Species(name='C', initial_value=0)\n",
    "            D = gillespy2.Species(name='D', initial_value=0)\n",
    "            self.add_species([A, B, C, D])\n",
    "            \n",
    "            #reactions\n",
    "            r1 = gillespy2.Reaction(name=\"r1\",reactants={A:1,B:1}, products={C:1},\n",
    "                   rate=rate1)\n",
    "            \n",
    "            r2 = gillespy2.Reaction(name=\"r2\",reactants={C:1}, products={A:1,B:1},\n",
    "                    rate=rate2)\n",
    "            \n",
    "            r3 = gillespy2.Reaction(name=\"r3\",reactants={C:1}, products={B:1,D:1},\n",
    "                    rate=rate3)\n",
    "            self.add_reaction([r1,r2,r3])\n",
    "            self.timespan(numpy.linspace(0,100,101))"
   ]
  },
  {
   "cell_type": "markdown",
   "metadata": {},
   "source": [
    "## Test Importation of Models."
   ]
  },
  {
   "cell_type": "code",
   "execution_count": 9,
   "metadata": {
    "scrolled": true
   },
   "outputs": [
    {
     "name": "stderr",
     "output_type": "stream",
     "text": [
      "\n",
      "Model: Michaelis_Menten, Solver: <class 'gillespy2.basic_ssa_solver.BasicSSASolver'>:   0%|          | 0/100 [00:00<?, ?it/s]\u001b[A\n",
      "Model: Michaelis_Menten, Solver: <class 'gillespy2.basic_ssa_solver.BasicSSASolver'>:   1%|          | 1/100 [00:01<02:03,  1.25s/it]\u001b[A\n",
      "Model: Michaelis_Menten, Solver: <class 'gillespy2.basic_ssa_solver.BasicSSASolver'>:   2%|▏         | 2/100 [00:02<02:07,  1.30s/it]\u001b[A\n",
      "Model: Michaelis_Menten, Solver: <class 'gillespy2.basic_ssa_solver.BasicSSASolver'>:   3%|▎         | 3/100 [00:04<02:11,  1.36s/it]\u001b[A\n",
      "Model: Michaelis_Menten, Solver: <class 'gillespy2.basic_ssa_solver.BasicSSASolver'>:   4%|▍         | 4/100 [00:05<02:05,  1.31s/it]\u001b[A\n",
      "Model: Michaelis_Menten, Solver: <class 'gillespy2.basic_ssa_solver.BasicSSASolver'>:   5%|▌         | 5/100 [00:06<02:08,  1.35s/it]\u001b[A\n",
      "Model: Michaelis_Menten, Solver: <class 'gillespy2.basic_ssa_solver.BasicSSASolver'>:   6%|▌         | 6/100 [00:08<02:10,  1.39s/it]\u001b[A"
     ]
    },
    {
     "ename": "KeyboardInterrupt",
     "evalue": "",
     "output_type": "error",
     "traceback": [
      "\u001b[0;31m---------------------------------------------------------------------------\u001b[0m",
      "\u001b[0;31mKeyboardInterrupt\u001b[0m                         Traceback (most recent call last)",
      "\u001b[0;32m<ipython-input-9-8894ea590250>\u001b[0m in \u001b[0;36m<module>\u001b[0;34m()\u001b[0m\n\u001b[1;32m      9\u001b[0m     \u001b[0mexterior_stats\u001b[0m \u001b[0;34m=\u001b[0m \u001b[0;34m[\u001b[0m\u001b[0;34m]\u001b[0m\u001b[0;34m\u001b[0m\u001b[0m\n\u001b[1;32m     10\u001b[0m     \u001b[0;32mfor\u001b[0m \u001b[0mi\u001b[0m \u001b[0;32min\u001b[0m \u001b[0mtqdm\u001b[0m\u001b[0;34m(\u001b[0m\u001b[0mrange\u001b[0m\u001b[0;34m(\u001b[0m\u001b[0;36m100\u001b[0m\u001b[0;34m)\u001b[0m\u001b[0;34m,\u001b[0m \u001b[0mdesc\u001b[0m \u001b[0;34m=\u001b[0m \u001b[0;34m'Model: {0}, Solver: {1}'\u001b[0m\u001b[0;34m.\u001b[0m\u001b[0mformat\u001b[0m\u001b[0;34m(\u001b[0m\u001b[0mmodel\u001b[0m\u001b[0;34m.\u001b[0m\u001b[0mname\u001b[0m\u001b[0;34m,\u001b[0m \u001b[0msolver\u001b[0m\u001b[0;34m)\u001b[0m\u001b[0;34m)\u001b[0m\u001b[0;34m:\u001b[0m\u001b[0;34m\u001b[0m\u001b[0m\n\u001b[0;32m---> 11\u001b[0;31m         \u001b[0mstandard_results\u001b[0m \u001b[0;34m=\u001b[0m \u001b[0mmodel\u001b[0m\u001b[0;34m.\u001b[0m\u001b[0mrun\u001b[0m\u001b[0;34m(\u001b[0m\u001b[0mstochkit_home\u001b[0m\u001b[0;34m=\u001b[0m\u001b[0;34m\"/mnt/c/Users/seanm/OneDrive/Documents/Research/StochKit\"\u001b[0m\u001b[0;34m)\u001b[0m\u001b[0;34m\u001b[0m\u001b[0m\n\u001b[0m\u001b[1;32m     12\u001b[0m         \u001b[0mstart\u001b[0m \u001b[0;34m=\u001b[0m \u001b[0mtimer\u001b[0m\u001b[0;34m(\u001b[0m\u001b[0;34m)\u001b[0m\u001b[0;34m\u001b[0m\u001b[0m\n\u001b[1;32m     13\u001b[0m         \u001b[0mtest_results\u001b[0m \u001b[0;34m=\u001b[0m\u001b[0mmodel\u001b[0m\u001b[0;34m.\u001b[0m\u001b[0mrun\u001b[0m\u001b[0;34m(\u001b[0m\u001b[0msolver\u001b[0m\u001b[0;34m=\u001b[0m\u001b[0msolver\u001b[0m\u001b[0;34m)\u001b[0m\u001b[0;34m\u001b[0m\u001b[0m\n",
      "\u001b[0;32m/mnt/c/Users/seanm/OneDrive/Documents/Research/TauHybridSolver/GillesPy2/gillespy2/gillespy2.py\u001b[0m in \u001b[0;36mrun\u001b[0;34m(self, number_of_trajectories, seed, solver, stochkit_home, profile, debug, show_labels)\u001b[0m\n\u001b[1;32m    412\u001b[0m                                       \u001b[0mnumber_of_trajectories\u001b[0m\u001b[0;34m=\u001b[0m\u001b[0mnumber_of_trajectories\u001b[0m\u001b[0;34m,\u001b[0m\u001b[0;34m\u001b[0m\u001b[0m\n\u001b[1;32m    413\u001b[0m                                       \u001b[0mstochkit_home\u001b[0m\u001b[0;34m=\u001b[0m\u001b[0mstochkit_home\u001b[0m\u001b[0;34m,\u001b[0m \u001b[0mprofile\u001b[0m\u001b[0;34m=\u001b[0m\u001b[0mprofile\u001b[0m\u001b[0;34m,\u001b[0m \u001b[0mdebug\u001b[0m\u001b[0;34m=\u001b[0m\u001b[0mdebug\u001b[0m\u001b[0;34m,\u001b[0m\u001b[0;34m\u001b[0m\u001b[0m\n\u001b[0;32m--> 414\u001b[0;31m                                       show_labels=show_labels)\n\u001b[0m\u001b[1;32m    415\u001b[0m \u001b[0;34m\u001b[0m\u001b[0m\n\u001b[1;32m    416\u001b[0m \u001b[0;34m\u001b[0m\u001b[0m\n",
      "\u001b[0;32m/mnt/c/Users/seanm/OneDrive/Documents/Research/TauHybridSolver/GillesPy2/gillespy2/gillespySolver.py\u001b[0m in \u001b[0;36mrun\u001b[0;34m(cls, model, t, number_of_trajectories, increment, seed, stochkit_home, algorithm, job_id, method, debug, profile, show_labels)\u001b[0m\n\u001b[1;32m    286\u001b[0m                                   \u001b[0malgorithm\u001b[0m\u001b[0;34m,\u001b[0m\u001b[0;34m\u001b[0m\u001b[0m\n\u001b[1;32m    287\u001b[0m                                   \u001b[0mjob_id\u001b[0m\u001b[0;34m,\u001b[0m \u001b[0mextra_args\u001b[0m\u001b[0;34m=\u001b[0m\u001b[0margs\u001b[0m\u001b[0;34m,\u001b[0m \u001b[0mdebug\u001b[0m\u001b[0;34m=\u001b[0m\u001b[0mdebug\u001b[0m\u001b[0;34m,\u001b[0m\u001b[0;34m\u001b[0m\u001b[0m\n\u001b[0;32m--> 288\u001b[0;31m                                   show_labels=show_labels)\n\u001b[0m\u001b[1;32m    289\u001b[0m \u001b[0;34m\u001b[0m\u001b[0m\n\u001b[1;32m    290\u001b[0m \u001b[0;34m\u001b[0m\u001b[0m\n",
      "\u001b[0;32m/mnt/c/Users/seanm/OneDrive/Documents/Research/TauHybridSolver/GillesPy2/gillespy2/gillespySolver.py\u001b[0m in \u001b[0;36mrun\u001b[0;34m(self, model, t, number_of_trajectories, increment, seed, stochkit_home, algorithm, job_id, extra_args, debug, profile, show_labels)\u001b[0m\n\u001b[1;32m    141\u001b[0m             \u001b[0;31m#print \"CMD: {0}\".format(cmd)\u001b[0m\u001b[0;34m\u001b[0m\u001b[0;34m\u001b[0m\u001b[0m\n\u001b[1;32m    142\u001b[0m             \u001b[0mhandle\u001b[0m \u001b[0;34m=\u001b[0m \u001b[0msubprocess\u001b[0m\u001b[0;34m.\u001b[0m\u001b[0mPopen\u001b[0m\u001b[0;34m(\u001b[0m\u001b[0mcmd\u001b[0m\u001b[0;34m,\u001b[0m \u001b[0mstdout\u001b[0m \u001b[0;34m=\u001b[0m \u001b[0msubprocess\u001b[0m\u001b[0;34m.\u001b[0m\u001b[0mPIPE\u001b[0m\u001b[0;34m,\u001b[0m \u001b[0mstderr\u001b[0m\u001b[0;34m=\u001b[0m\u001b[0msubprocess\u001b[0m\u001b[0;34m.\u001b[0m\u001b[0mPIPE\u001b[0m\u001b[0;34m,\u001b[0m \u001b[0mshell\u001b[0m\u001b[0;34m=\u001b[0m\u001b[0;32mTrue\u001b[0m\u001b[0;34m)\u001b[0m\u001b[0;34m\u001b[0m\u001b[0m\n\u001b[0;32m--> 143\u001b[0;31m             \u001b[0mreturn_code\u001b[0m \u001b[0;34m=\u001b[0m \u001b[0mhandle\u001b[0m\u001b[0;34m.\u001b[0m\u001b[0mwait\u001b[0m\u001b[0;34m(\u001b[0m\u001b[0;34m)\u001b[0m\u001b[0;34m\u001b[0m\u001b[0m\n\u001b[0m\u001b[1;32m    144\u001b[0m         \u001b[0;32mexcept\u001b[0m \u001b[0mOSError\u001b[0m \u001b[0;32mas\u001b[0m \u001b[0me\u001b[0m\u001b[0;34m:\u001b[0m\u001b[0;34m\u001b[0m\u001b[0m\n\u001b[1;32m    145\u001b[0m             raise SimulationError(\"Solver execution failed: \\\n",
      "\u001b[0;32m/usr/lib/python3.5/subprocess.py\u001b[0m in \u001b[0;36mwait\u001b[0;34m(self, timeout, endtime)\u001b[0m\n\u001b[1;32m   1656\u001b[0m                         \u001b[0;32mif\u001b[0m \u001b[0mself\u001b[0m\u001b[0;34m.\u001b[0m\u001b[0mreturncode\u001b[0m \u001b[0;32mis\u001b[0m \u001b[0;32mnot\u001b[0m \u001b[0;32mNone\u001b[0m\u001b[0;34m:\u001b[0m\u001b[0;34m\u001b[0m\u001b[0m\n\u001b[1;32m   1657\u001b[0m                             \u001b[0;32mbreak\u001b[0m  \u001b[0;31m# Another thread waited.\u001b[0m\u001b[0;34m\u001b[0m\u001b[0m\n\u001b[0;32m-> 1658\u001b[0;31m                         \u001b[0;34m(\u001b[0m\u001b[0mpid\u001b[0m\u001b[0;34m,\u001b[0m \u001b[0msts\u001b[0m\u001b[0;34m)\u001b[0m \u001b[0;34m=\u001b[0m \u001b[0mself\u001b[0m\u001b[0;34m.\u001b[0m\u001b[0m_try_wait\u001b[0m\u001b[0;34m(\u001b[0m\u001b[0;36m0\u001b[0m\u001b[0;34m)\u001b[0m\u001b[0;34m\u001b[0m\u001b[0m\n\u001b[0m\u001b[1;32m   1659\u001b[0m                         \u001b[0;31m# Check the pid and loop as waitpid has been known to\u001b[0m\u001b[0;34m\u001b[0m\u001b[0;34m\u001b[0m\u001b[0m\n\u001b[1;32m   1660\u001b[0m                         \u001b[0;31m# return 0 even without WNOHANG in odd situations.\u001b[0m\u001b[0;34m\u001b[0m\u001b[0;34m\u001b[0m\u001b[0m\n",
      "\u001b[0;32m/usr/lib/python3.5/subprocess.py\u001b[0m in \u001b[0;36m_try_wait\u001b[0;34m(self, wait_flags)\u001b[0m\n\u001b[1;32m   1606\u001b[0m             \u001b[0;34m\"\"\"All callers to this function MUST hold self._waitpid_lock.\"\"\"\u001b[0m\u001b[0;34m\u001b[0m\u001b[0m\n\u001b[1;32m   1607\u001b[0m             \u001b[0;32mtry\u001b[0m\u001b[0;34m:\u001b[0m\u001b[0;34m\u001b[0m\u001b[0m\n\u001b[0;32m-> 1608\u001b[0;31m                 \u001b[0;34m(\u001b[0m\u001b[0mpid\u001b[0m\u001b[0;34m,\u001b[0m \u001b[0msts\u001b[0m\u001b[0;34m)\u001b[0m \u001b[0;34m=\u001b[0m \u001b[0mos\u001b[0m\u001b[0;34m.\u001b[0m\u001b[0mwaitpid\u001b[0m\u001b[0;34m(\u001b[0m\u001b[0mself\u001b[0m\u001b[0;34m.\u001b[0m\u001b[0mpid\u001b[0m\u001b[0;34m,\u001b[0m \u001b[0mwait_flags\u001b[0m\u001b[0;34m)\u001b[0m\u001b[0;34m\u001b[0m\u001b[0m\n\u001b[0m\u001b[1;32m   1609\u001b[0m             \u001b[0;32mexcept\u001b[0m \u001b[0mChildProcessError\u001b[0m\u001b[0;34m:\u001b[0m\u001b[0;34m\u001b[0m\u001b[0m\n\u001b[1;32m   1610\u001b[0m                 \u001b[0;31m# This happens if SIGCLD is set to be ignored or waiting\u001b[0m\u001b[0;34m\u001b[0m\u001b[0;34m\u001b[0m\u001b[0m\n",
      "\u001b[0;31mKeyboardInterrupt\u001b[0m: "
     ]
    }
   ],
   "source": [
    "modelList = [MichaelisMenten()]\n",
    "\n",
    "solverList = [BasicSSASolver, SSACSolver, BasicTauHybridSolver, BasicTauLeapingSolver]\n",
    "timingList = []\n",
    "\n",
    "\n",
    "for model, solver in product(modelList, solverList):\n",
    "    medianList = []\n",
    "    exterior_stats = []\n",
    "    for i in tqdm(range(100), desc = 'Model: {0}, Solver: {1}'.format(model.name, solver)):\n",
    "        standard_results = model.run(stochkit_home=\"/mnt/c/Users/seanm/OneDrive/Documents/Research/StochKit\")\n",
    "        start = timer()\n",
    "        test_results =model.run(solver=solver)\n",
    "        stop = timer()\n",
    "        medianList.append(stop-start)\n",
    "        interior_stats = []\n",
    "        for species in standard_results[0].keys():\n",
    "            if solver == SSACSolver:\n",
    "                interior_stats.append(stats.ks_2samp(standard_results[0][species], test_results[0][species])[0])\n",
    "            else:\n",
    "                interior_stats.append(stats.ks_2samp(standard_results[0][species], test_results[species])[0])\n",
    "        exterior_stats.append(statistics.median(interior_stats))\n",
    "    median = statistics.median(medianList)\n",
    "    timingList.append([model, solver, median])"
   ]
  },
  {
   "cell_type": "code",
   "execution_count": null,
   "metadata": {},
   "outputs": [],
   "source": [
    "print(*exterior_stats)"
   ]
  },
  {
   "cell_type": "code",
   "execution_count": null,
   "metadata": {},
   "outputs": [],
   "source": [
    "from gillespy2.example_models import LacOperon\n",
    "model = LacOperon()\n",
    "start = timer()\n",
    "results = model.run(solver=BasicSSASolver)\n",
    "model.plot(results)"
   ]
  },
  {
   "cell_type": "code",
   "execution_count": null,
   "metadata": {},
   "outputs": [],
   "source": [
    "#Workaround for tqdm doing some weird dynamic scaling that causes a runtime error in JupyterLab.\n",
    "#Operation seems to take to long for Jupyter Lab when evaluating LacOperon Model for any solvers when coerced into a function list. Individual Stuff works well.\n",
    "for x in tqdm(range(len(solverList))):\n",
    "    model = LacOperon()\n",
    "    start = timer()\n",
    "    model.run(solver=solverList[x])\n",
    "    stop = timer()\n",
    "    timingList.append([LacOperon, str(solverList[x]), stop-start])"
   ]
  },
  {
   "cell_type": "code",
   "execution_count": null,
   "metadata": {},
   "outputs": [],
   "source": [
    "from gillespy2.example_models import MichaelisMenten\n",
    "import h5py\n",
    "model = MichaelisMenten()\n",
    "standard_results = model.run(stochkit_home=\"/home/jackson/StochKit/StochKit\")\n",
    "print(standard_results)\n",
    "# with h5py.File('MichaelisMenten.hdf5','w') as f:\n",
    "for species in model.listOfSpecies.keys():\n",
    "     print(len(standard_results[0][f'{species}']))"
   ]
  },
  {
   "cell_type": "code",
   "execution_count": null,
   "metadata": {},
   "outputs": [],
   "source": []
  },
  {
   "cell_type": "code",
   "execution_count": null,
   "metadata": {},
   "outputs": [],
   "source": []
  }
 ],
 "metadata": {
  "kernelspec": {
   "display_name": "Python 3",
   "language": "python",
   "name": "python3"
  },
  "language_info": {
   "codemirror_mode": {
    "name": "ipython",
    "version": 3
   },
   "file_extension": ".py",
   "mimetype": "text/x-python",
   "name": "python",
   "nbconvert_exporter": "python",
   "pygments_lexer": "ipython3",
   "version": "3.5.2"
  }
 },
 "nbformat": 4,
 "nbformat_minor": 2
}
