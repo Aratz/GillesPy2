{
 "cells": [
  {
   "cell_type": "code",
   "execution_count": 1,
   "metadata": {},
   "outputs": [
    {
     "name": "stdout",
     "output_type": "stream",
     "text": [
      "Using matplotlib backend: TkAgg\n"
     ]
    }
   ],
   "source": [
    "%matplotlib\n",
    "%matplotlib inline\n",
    "import numpy\n",
    "import matplotlib.pyplot as plt"
   ]
  },
  {
   "cell_type": "code",
   "execution_count": 2,
   "metadata": {},
   "outputs": [],
   "source": [
    "import gillespy2\n",
    "class MichaelisMenten(gillespy2.Model):\n",
    "     def __init__(self, parameter_values=None):\n",
    "            #initialize Model\n",
    "            gillespy2.Model.__init__(self, name=\"Michaelis_Menten\")\n",
    "            \n",
    "            #parameters\n",
    "            rate1 = gillespy2.Parameter(name='rate1', expression= 0.0017)\n",
    "            rate2 = gillespy2.Parameter(name='rate2', expression= 0.5)\n",
    "            rate3 = gillespy2.Parameter(name='rate3', expression = 0.1)\n",
    "            self.add_parameter([rate1,rate2,rate3])\n",
    "            \n",
    "            #Species\n",
    "            A = gillespy2.Species(name='A', initial_value=301)\n",
    "            B = gillespy2.Species(name='B', initial_value=120)\n",
    "            C = gillespy2.Species(name='C', initial_value=0)\n",
    "            D = gillespy2.Species(name='D', initial_value=0)\n",
    "            self.add_species([A, B, C, D])\n",
    "            \n",
    "            #reactions\n",
    "            r1 = gillespy2.Reaction(name=\"r1\",reactants={A:1,B:1}, products={C:1},\n",
    "                   rate=rate1)\n",
    "            \n",
    "            r2 = gillespy2.Reaction(name=\"r2\",reactants={C:1}, products={A:1,B:1},\n",
    "                    rate=rate2)\n",
    "            \n",
    "            r3 = gillespy2.Reaction(name=\"r3\",reactants={C:1}, products={B:1,D:1},\n",
    "                    rate=rate3)\n",
    "            self.add_reaction([r1,r2,r3])\n",
    "            self.timespan(numpy.linspace(0,100,101))"
   ]
  },
  {
   "cell_type": "code",
   "execution_count": 3,
   "metadata": {},
   "outputs": [],
   "source": [
    "from gillespy2.solvers.cpp import SSACSolver\n",
    "model = MichaelisMenten()\n",
    "csolver = SSACSolver(model)"
   ]
  },
  {
   "cell_type": "code",
   "execution_count": 4,
   "metadata": {},
   "outputs": [
    {
     "name": "stdout",
     "output_type": "stream",
     "text": [
      "[301. 269. 244. 244. 242. 238. 235. 230. 211. 206. 206. 204. 201. 193.\n",
      " 195. 187. 174. 175. 179. 170. 171. 159. 164. 168. 163. 160. 152. 145.\n",
      " 135. 134. 139. 134. 134. 134. 125. 122. 120. 122. 115. 110. 111. 102.\n",
      " 104. 100.  99.  93.  88.  81.  84.  85.  80.  78.  80.  71.  76.  72.\n",
      "  75.  63.  68.  72.  70.  67.  66.  65.  61.  58.  54.  53.  53.  54.\n",
      "  56.  56.  52.  47.  50.  49.  49.  42.  43.  44.  44.  44.  41.  39.\n",
      "  37.  38.  36.  34.  36.  31.  33.  33.  37.  32.  30.  35.  27.  27.\n",
      "  32.  29.  29.]\n"
     ]
    }
   ],
   "source": [
    "dresults = model.run(solver=csolver, show_labels=True)\n",
    "print(dresults[0]['A'])"
   ]
  },
  {
   "cell_type": "code",
   "execution_count": 5,
   "metadata": {},
   "outputs": [
    {
     "ename": "InvalidModelError",
     "evalue": "Model must be either a GillesPy Model instance or an xml file name.",
     "output_type": "error",
     "traceback": [
      "\u001b[0;31m---------------------------------------------------------------------------\u001b[0m",
      "\u001b[0;31mInvalidModelError\u001b[0m                         Traceback (most recent call last)",
      "\u001b[0;32m<ipython-input-5-3b34ff46b3ca>\u001b[0m in \u001b[0;36m<module>\u001b[0;34m\u001b[0m\n\u001b[1;32m      1\u001b[0m \u001b[0mmodel\u001b[0m \u001b[0;34m=\u001b[0m \u001b[0mMichaelisMenten\u001b[0m\u001b[0;34m(\u001b[0m\u001b[0;34m)\u001b[0m\u001b[0;34m\u001b[0m\u001b[0m\n\u001b[0;32m----> 2\u001b[0;31m \u001b[0mresults\u001b[0m \u001b[0;34m=\u001b[0m \u001b[0mmodel\u001b[0m\u001b[0;34m.\u001b[0m\u001b[0mrun\u001b[0m\u001b[0;34m(\u001b[0m\u001b[0mshow_labels\u001b[0m\u001b[0;34m=\u001b[0m\u001b[0;32mFalse\u001b[0m\u001b[0;34m)\u001b[0m\u001b[0;34m\u001b[0m\u001b[0m\n\u001b[0m\u001b[1;32m      3\u001b[0m \u001b[0mdresults\u001b[0m \u001b[0;34m=\u001b[0m \u001b[0mmodel\u001b[0m\u001b[0;34m.\u001b[0m\u001b[0mrun\u001b[0m\u001b[0;34m(\u001b[0m\u001b[0msolver\u001b[0m\u001b[0;34m=\u001b[0m\u001b[0mcsolver\u001b[0m\u001b[0;34m,\u001b[0m \u001b[0mshow_labels\u001b[0m\u001b[0;34m=\u001b[0m\u001b[0;32mFalse\u001b[0m\u001b[0;34m)\u001b[0m\u001b[0;34m\u001b[0m\u001b[0m\n\u001b[1;32m      4\u001b[0m \u001b[0mplt\u001b[0m\u001b[0;34m.\u001b[0m\u001b[0mplot\u001b[0m\u001b[0;34m(\u001b[0m\u001b[0mdresults\u001b[0m\u001b[0;34m[\u001b[0m\u001b[0;36m0\u001b[0m\u001b[0;34m]\u001b[0m\u001b[0;34m[\u001b[0m\u001b[0;34m:\u001b[0m\u001b[0;34m,\u001b[0m\u001b[0;36m0\u001b[0m\u001b[0;34m]\u001b[0m\u001b[0;34m,\u001b[0m\u001b[0mdresults\u001b[0m\u001b[0;34m[\u001b[0m\u001b[0;36m0\u001b[0m\u001b[0;34m]\u001b[0m\u001b[0;34m[\u001b[0m\u001b[0;34m:\u001b[0m\u001b[0;34m,\u001b[0m\u001b[0;36m1\u001b[0m\u001b[0;34m]\u001b[0m\u001b[0;34m,\u001b[0m\u001b[0;34m'--r'\u001b[0m\u001b[0;34m,\u001b[0m \u001b[0mlabel\u001b[0m\u001b[0;34m=\u001b[0m\u001b[0;34m'Substrate'\u001b[0m\u001b[0;34m)\u001b[0m\u001b[0;34m\u001b[0m\u001b[0m\n\u001b[1;32m      5\u001b[0m \u001b[0mplt\u001b[0m\u001b[0;34m.\u001b[0m\u001b[0mplot\u001b[0m\u001b[0;34m(\u001b[0m\u001b[0mdresults\u001b[0m\u001b[0;34m[\u001b[0m\u001b[0;36m0\u001b[0m\u001b[0;34m]\u001b[0m\u001b[0;34m[\u001b[0m\u001b[0;34m:\u001b[0m\u001b[0;34m,\u001b[0m\u001b[0;36m0\u001b[0m\u001b[0;34m]\u001b[0m\u001b[0;34m,\u001b[0m\u001b[0mdresults\u001b[0m\u001b[0;34m[\u001b[0m\u001b[0;36m0\u001b[0m\u001b[0;34m]\u001b[0m\u001b[0;34m[\u001b[0m\u001b[0;34m:\u001b[0m\u001b[0;34m,\u001b[0m\u001b[0;36m4\u001b[0m\u001b[0;34m]\u001b[0m\u001b[0;34m,\u001b[0m\u001b[0;34m'--b'\u001b[0m\u001b[0;34m,\u001b[0m \u001b[0mlabel\u001b[0m\u001b[0;34m=\u001b[0m\u001b[0;34m'Product'\u001b[0m\u001b[0;34m)\u001b[0m\u001b[0;34m\u001b[0m\u001b[0m\n",
      "\u001b[0;32m~/environments/GillesPy2/venv/lib/python3.6/site-packages/gillespy2/core/gillespy2.py\u001b[0m in \u001b[0;36mrun\u001b[0;34m(self, number_of_trajectories, seed, solver, stochkit_home, debug, show_labels)\u001b[0m\n\u001b[1;32m    387\u001b[0m                                       \u001b[0mnumber_of_trajectories\u001b[0m\u001b[0;34m=\u001b[0m\u001b[0mnumber_of_trajectories\u001b[0m\u001b[0;34m,\u001b[0m\u001b[0;34m\u001b[0m\u001b[0m\n\u001b[1;32m    388\u001b[0m                                       \u001b[0mstochkit_home\u001b[0m\u001b[0;34m=\u001b[0m\u001b[0mstochkit_home\u001b[0m\u001b[0;34m,\u001b[0m \u001b[0mdebug\u001b[0m\u001b[0;34m=\u001b[0m\u001b[0mdebug\u001b[0m\u001b[0;34m,\u001b[0m\u001b[0;34m\u001b[0m\u001b[0m\n\u001b[0;32m--> 389\u001b[0;31m                                       show_labels=show_labels)\n\u001b[0m\u001b[1;32m    390\u001b[0m \u001b[0;34m\u001b[0m\u001b[0m\n\u001b[1;32m    391\u001b[0m \u001b[0;34m\u001b[0m\u001b[0m\n",
      "\u001b[0;32m~/environments/GillesPy2/venv/lib/python3.6/site-packages/gillespy2/solvers/stochkit/stochkit_solvers.py\u001b[0m in \u001b[0;36mrun\u001b[0;34m(cls, model, t, number_of_trajectories, increment, seed, stochkit_home, algorithm, job_id, method, debug, show_labels, processes)\u001b[0m\n\u001b[1;32m    256\u001b[0m \u001b[0;34m\u001b[0m\u001b[0m\n\u001b[1;32m    257\u001b[0m         return super().run(model, t, number_of_trajectories, increment, seed, stochkit_home,\n\u001b[0;32m--> 258\u001b[0;31m                            algorithm=algorithm, job_id=job_id, debug=debug, show_labels=show_labels, extra_args=args)\n\u001b[0m\u001b[1;32m    259\u001b[0m \u001b[0;34m\u001b[0m\u001b[0m\n\u001b[1;32m    260\u001b[0m     \u001b[0;34m@\u001b[0m\u001b[0mclassmethod\u001b[0m\u001b[0;34m\u001b[0m\u001b[0m\n",
      "\u001b[0;32m~/environments/GillesPy2/venv/lib/python3.6/site-packages/gillespy2/solvers/stochkit/stochkit_solvers.py\u001b[0m in \u001b[0;36mrun\u001b[0;34m(self, model, t, number_of_trajectories, increment, seed, stochkit_home, algorithm, job_id, extra_args, debug, show_labels)\u001b[0m\n\u001b[1;32m     74\u001b[0m             \u001b[0moutfile\u001b[0m \u001b[0;34m=\u001b[0m \u001b[0mmodel\u001b[0m\u001b[0;34m\u001b[0m\u001b[0m\n\u001b[1;32m     75\u001b[0m         \u001b[0;32melse\u001b[0m\u001b[0;34m:\u001b[0m\u001b[0;34m\u001b[0m\u001b[0m\n\u001b[0;32m---> 76\u001b[0;31m             \u001b[0;32mraise\u001b[0m \u001b[0mInvalidModelError\u001b[0m\u001b[0;34m(\u001b[0m\u001b[0;34m'Model must be either a GillesPy Model instance or an xml file name.'\u001b[0m\u001b[0;34m)\u001b[0m\u001b[0;34m\u001b[0m\u001b[0m\n\u001b[0m\u001b[1;32m     77\u001b[0m \u001b[0;34m\u001b[0m\u001b[0m\n\u001b[1;32m     78\u001b[0m         \u001b[0mexecutable\u001b[0m \u001b[0;34m=\u001b[0m \u001b[0mself\u001b[0m\u001b[0;34m.\u001b[0m\u001b[0mlocate_executable\u001b[0m\u001b[0;34m(\u001b[0m\u001b[0mstochkit_home\u001b[0m\u001b[0;34m=\u001b[0m\u001b[0mstochkit_home\u001b[0m\u001b[0;34m,\u001b[0m \u001b[0malgorithm\u001b[0m\u001b[0;34m=\u001b[0m\u001b[0malgorithm\u001b[0m\u001b[0;34m)\u001b[0m\u001b[0;34m\u001b[0m\u001b[0m\n",
      "\u001b[0;31mInvalidModelError\u001b[0m: Model must be either a GillesPy Model instance or an xml file name."
     ]
    }
   ],
   "source": [
    "model = MichaelisMenten()\n",
    "results = model.run(show_labels=False)\n",
    "dresults = model.run(solver=csolver, show_labels=False)\n",
    "plt.plot(dresults[0][:,0],dresults[0][:,1],'--r', label='Substrate')\n",
    "plt.plot(dresults[0][:,0],dresults[0][:,4],'--b', label='Product')\n",
    "plt.plot(results[0][:,0],results[0][:,1],'-r', label='Substrate')\n",
    "plt.plot(results[0][:,0],results[0][:,4],'-b', label='Product')\n",
    "plt.plot([0],[11])\n",
    "plt.legend(loc='best')"
   ]
  },
  {
   "cell_type": "code",
   "execution_count": null,
   "metadata": {},
   "outputs": [],
   "source": [
    "import time\n",
    "from gillespy2 import SSASolver, StochKitSolver, BasicSSASolver, SSACSolver\n",
    "import numpy as np\n",
    "log2_trajectories_max = 10\n",
    "loops = 100\n",
    "solvers = [StochKitSolver, csolver] #  SSASolver, BasicSSASolver\n",
    "timing_data = np.zeros((log2_trajectories_max+1,len(solvers)+1))\n",
    "for n in range(0,log2_trajectories_max+1):\n",
    "    timing_data[n, 0] = 2**n\n",
    "    for i in range(loops):\n",
    "        for solver in range(len(solvers)):\n",
    "            time_start = time.perf_counter()\n",
    "            model.run(solver=solvers[solver], show_labels=False, number_of_trajectories=2**n)\n",
    "            time_end = time.perf_counter()\n",
    "            timing_data[n, solver+1] += (time_end - time_start)/loops\n",
    "    print(\"{0}:\\tStochKit:{1}\\tSSACSolver:{2}\\tRatio:{3}\".format(timing_data[n,0], timing_data[n,1], timing_data[n, 2], (timing_data[n, 1]/timing_data[n, 2])))"
   ]
  },
  {
   "cell_type": "code",
   "execution_count": null,
   "metadata": {},
   "outputs": [
    {
     "name": "stderr",
     "output_type": "stream",
     "text": [
      "2018-10-30 16:19:55,077 - tornado.application - ERROR - Exception in callback functools.partial(<function wrap.<locals>.null_wrapper at 0x7f9f97a61bf8>)\n",
      "Traceback (most recent call last):\n",
      "  File \"/home/dalton/environments/GillesPy2/venv/lib/python3.6/site-packages/tornado/ioloop.py\", line 758, in _run_callback\n",
      "    ret = callback()\n",
      "  File \"/home/dalton/environments/GillesPy2/venv/lib/python3.6/site-packages/tornado/stack_context.py\", line 300, in null_wrapper\n",
      "    return fn(*args, **kwargs)\n",
      "  File \"/home/dalton/environments/GillesPy2/venv/lib/python3.6/site-packages/ipykernel/kernelbase.py\", line 306, in advance_eventloop\n",
      "    eventloop(self)\n",
      "TypeError: 'NoneType' object is not callable\n"
     ]
    }
   ],
   "source": [
    "plt.plot(timing_data[:,0],timing_data[:,1],'-r', label='StochKit')\n",
    "plt.plot(timing_data[:,0],timing_data[:,2],'-b', label='Cython')\n",
    "plt.plot(timing_data[:,0],timing_data[:,3],'-g', label='Numpy')\n",
    "plt.plot(timing_data[:,0],timing_data[:,4],'-k', label='Python')\n",
    "plt.title(\"SSA Simulation Time\")\n",
    "plt.ylabel(\"Seconds\")\n",
    "plt.xlabel(\"Trajectories\")\n",
    "plt.legend(loc='best')\n",
    "plt.savefig(\"SSA_Comparisons3.png\")"
   ]
  },
  {
   "cell_type": "code",
   "execution_count": null,
   "metadata": {},
   "outputs": [],
   "source": []
  },
  {
   "cell_type": "code",
   "execution_count": null,
   "metadata": {},
   "outputs": [],
   "source": []
  }
 ],
 "metadata": {
  "kernelspec": {
   "display_name": "Python 3",
   "language": "python",
   "name": "python3"
  },
  "language_info": {
   "codemirror_mode": {
    "name": "ipython",
    "version": 3
   },
   "file_extension": ".py",
   "mimetype": "text/x-python",
   "name": "python",
   "nbconvert_exporter": "python",
   "pygments_lexer": "ipython3",
   "version": "3.6.3"
  }
 },
 "nbformat": 4,
 "nbformat_minor": 1
}
