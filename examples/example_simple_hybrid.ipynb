{
 "cells": [
  {
   "cell_type": "code",
   "execution_count": 1,
   "metadata": {},
   "outputs": [],
   "source": [
    "import numpy\n",
    "import matplotlib\n",
    "matplotlib.use('Agg')\n",
    "# %matplotlib\n",
    "# %matplotlib inline\n",
    "import matplotlib.pyplot as plt\n",
    "plt.style.use('seaborn-poster')"
   ]
  },
  {
   "cell_type": "code",
   "execution_count": 2,
   "metadata": {},
   "outputs": [
    {
     "name": "stdout",
     "output_type": "stream",
     "text": [
      "['', '/usr/lib/python35.zip', '/usr/lib/python3.5', '/usr/lib/python3.5/plat-x86_64-linux-gnu', '/usr/lib/python3.5/lib-dynload', '/home/Seanebum/.local/lib/python3.5/site-packages', '/usr/local/lib/python3.5/dist-packages', '/usr/lib/python3/dist-packages', '/home/Seanebum/.local/lib/python3.5/site-packages/IPython/extensions', '/home/Seanebum/.ipython', '/mnt/c/Users/seanm/OneDrive/Documents/Research/TauHybridSolver/GillesPy2']\n"
     ]
    }
   ],
   "source": [
    "import sys\n",
    "import os\n",
    "sys.path.append(os.path.abspath(os.path.join(os.getcwd(), os.pardir)))\n",
    "print(sys.path)"
   ]
  },
  {
   "cell_type": "code",
   "execution_count": 3,
   "metadata": {},
   "outputs": [],
   "source": [
    "import math\n",
    "import gillespy2\n",
    "from gillespy2.basic_tau_hybrid_solver import BasicTauHybridSolver\n",
    "from gillespy2.basic_ssa_solver import BasicSSASolver\n",
    "from gillespy2.basic_tau_leaping_solver import BasicTauLeapingSolver\n",
    "from gillespy2.basic_ode_solver import BasicODESolver"
   ]
  },
  {
   "cell_type": "code",
   "execution_count": 4,
   "metadata": {},
   "outputs": [],
   "source": [
    "\n",
    "class SimpleHybridModel(gillespy2.Model):\n",
    "     def __init__(self, parameter_values=None, init_v=1):\n",
    "            #initialize Model\n",
    "            gillespy2.Model.__init__(self, name=\"Simple_Hybrid_Model\")\n",
    "\n",
    "            \n",
    "            #Species\n",
    "            A = gillespy2.Species(name='A', initial_value=0)\n",
    "            V = gillespy2.Species(name='V', initial_value=init_v)\n",
    "\n",
    "            self.add_species([A, V])\n",
    "            \n",
    "            #parameters\n",
    "            rate1 = gillespy2.Parameter(name='rate1', expression= 20.0)\n",
    "            rate2 = gillespy2.Parameter(name='rate2', expression= 10.0)\n",
    "            rate_rule1 = gillespy2.RateRule(V, \"cos(t)\")\n",
    "            self.add_parameter([rate1, rate2])\n",
    "            self.add_rate_rule(rate_rule1)\n",
    "            \n",
    "            #reactions\n",
    "            r1 = gillespy2.Reaction(name=\"r1\",reactants={}, products={A:1},\n",
    "                   propensity_function=\"rate1 * V\")\n",
    "            \n",
    "            r2 = gillespy2.Reaction(name=\"r2\",reactants={A:1}, products={},\n",
    "                    rate=rate2)\n",
    "            \n",
    "            self.add_reaction([r1, r2])\n",
    "            self.timespan(numpy.linspace(0,100, 1001))"
   ]
  },
  {
   "cell_type": "code",
   "execution_count": 5,
   "metadata": {
    "scrolled": true
   },
   "outputs": [],
   "source": [
    "model = SimpleHybridModel()"
   ]
  },
  {
   "cell_type": "code",
   "execution_count": 6,
   "metadata": {
    "scrolled": true
   },
   "outputs": [
    {
     "name": "stdout",
     "output_type": "stream",
     "text": [
      "CPU times: user 1.47 s, sys: 31.2 ms, total: 1.5 s\n",
      "Wall time: 1.45 s\n",
      "CPU times: user 156 ms, sys: 15.6 ms, total: 172 ms\n",
      "Wall time: 148 ms\n"
     ]
    }
   ],
   "source": [
    "%time results = model.run(solver=BasicTauHybridSolver(), show_labels=True, debug=False)\n",
    "%time results2 = model.run(solver=BasicSSASolver(), show_labels=True)\n",
    "# import cProfile\n",
    "\n",
    "# cProfile.run('model.run(solver=BasicTauHybridSolver(), show_labels=True, debug=False)', sort='tot')"
   ]
  },
  {
   "cell_type": "code",
   "execution_count": 7,
   "metadata": {},
   "outputs": [],
   "source": [
    "plt.figure(figsize=(15,10))\n",
    "plt.title(\"Example Simple Hybrid\")\n",
    "plt.xlabel(\"Time (s)\")\n",
    "plt.ylabel(\"Species Population\")\n",
    "plt.plot(results['time'], results['A'], label='A')\n",
    "plt.plot(results['time'], results['V'], label='V')\n",
    "plt.legend(loc='best')\n",
    "plt.savefig('example_simple_hybrid.png')"
   ]
  },
  {
   "cell_type": "code",
   "execution_count": 8,
   "metadata": {},
   "outputs": [],
   "source": [
    "model.plot(results2)"
   ]
  },
  {
   "cell_type": "code",
   "execution_count": 9,
   "metadata": {},
   "outputs": [
    {
     "data": {
      "text/plain": [
       "0"
      ]
     },
     "execution_count": 9,
     "metadata": {},
     "output_type": "execute_result"
    }
   ],
   "source": [
    "min(results['A'])"
   ]
  },
  {
   "cell_type": "code",
   "execution_count": null,
   "metadata": {},
   "outputs": [],
   "source": []
  }
 ],
 "metadata": {
  "kernelspec": {
   "display_name": "Python 3",
   "language": "python",
   "name": "python3"
  },
  "language_info": {
   "codemirror_mode": {
    "name": "ipython",
    "version": 3
   },
   "file_extension": ".py",
   "mimetype": "text/x-python",
   "name": "python",
   "nbconvert_exporter": "python",
   "pygments_lexer": "ipython3",
   "version": "3.5.2"
  }
 },
 "nbformat": 4,
 "nbformat_minor": 2
}
