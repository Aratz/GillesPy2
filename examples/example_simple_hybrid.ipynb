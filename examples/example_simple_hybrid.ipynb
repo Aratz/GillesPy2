{
 "cells": [
  {
   "cell_type": "code",
   "execution_count": 1,
   "metadata": {},
   "outputs": [
    {
     "name": "stdout",
     "output_type": "stream",
     "text": [
      "Using matplotlib backend: Qt5Agg\n"
     ]
    }
   ],
   "source": [
    "%matplotlib\n",
    "%matplotlib inline\n",
    "import numpy\n",
    "import matplotlib.pyplot as plt"
   ]
  },
  {
   "cell_type": "code",
   "execution_count": 2,
   "metadata": {},
   "outputs": [
    {
     "name": "stdout",
     "output_type": "stream",
     "text": [
      "['', 'C:\\\\Users\\\\seanm\\\\Anaconda3\\\\python36.zip', 'C:\\\\Users\\\\seanm\\\\Anaconda3\\\\DLLs', 'C:\\\\Users\\\\seanm\\\\Anaconda3\\\\lib', 'C:\\\\Users\\\\seanm\\\\Anaconda3', 'C:\\\\Users\\\\seanm\\\\Anaconda3\\\\lib\\\\site-packages', 'C:\\\\Users\\\\seanm\\\\Anaconda3\\\\lib\\\\site-packages\\\\win32', 'C:\\\\Users\\\\seanm\\\\Anaconda3\\\\lib\\\\site-packages\\\\win32\\\\lib', 'C:\\\\Users\\\\seanm\\\\Anaconda3\\\\lib\\\\site-packages\\\\Pythonwin', 'C:\\\\Users\\\\seanm\\\\Anaconda3\\\\lib\\\\site-packages\\\\IPython\\\\extensions', 'C:\\\\Users\\\\seanm\\\\.ipython', 'C:\\\\Users\\\\seanm\\\\OneDrive\\\\Documents\\\\Research\\\\TauHybridSolver\\\\GillesPy2']\n"
     ]
    }
   ],
   "source": [
    "import sys\n",
    "import os\n",
    "sys.path.append(os.path.abspath(os.path.join(os.getcwd(), os.pardir)))\n",
    "print(sys.path)"
   ]
  },
  {
   "cell_type": "code",
   "execution_count": 3,
   "metadata": {},
   "outputs": [
    {
     "name": "stdout",
     "output_type": "stream",
     "text": [
      "Unable to use Cython optimized SSA:\n",
      "Error:No module named 'cython_ssa_solver'\n"
     ]
    }
   ],
   "source": [
    "import math\n",
    "import gillespy2\n",
    "from gillespy2.basic_tau_hybrid_solver import BasicTauHybridSolver"
   ]
  },
  {
   "cell_type": "code",
   "execution_count": 4,
   "metadata": {},
   "outputs": [],
   "source": [
    "\n",
    "class SimpleHybridModel(gillespy2.Model):\n",
    "     def __init__(self, parameter_values=None):\n",
    "            #initialize Model\n",
    "            gillespy2.Model.__init__(self, name=\"Simple_Hybrid_Model\")\n",
    "\n",
    "            \n",
    "            #Species\n",
    "            A = gillespy2.Species(name='A', initial_value=0)\n",
    "            V = gillespy2.Species(name='V', initial_value=0, deterministic=True)\n",
    "\n",
    "            self.add_species([A, V])\n",
    "            \n",
    "            #parameters\n",
    "            rate1 = gillespy2.Parameter(name='rate1', expression= 20.0)\n",
    "            rate2 = gillespy2.Parameter(name='rate2', expression= 10.0)\n",
    "            rate_rule1 = gillespy2.RateRule(V, \"sin(t)\")\n",
    "            self.add_parameter([rate1, rate2])\n",
    "            self.add_rate_rule(rate_rule1)\n",
    "            \n",
    "            #reactions\n",
    "            r1 = gillespy2.Reaction(name=\"r1\",reactants={}, products={A:1},\n",
    "                   propensity_function=\"rate1 * V\")\n",
    "            \n",
    "            r2 = gillespy2.Reaction(name=\"r2\",reactants={A:1}, products={},\n",
    "                    rate=rate2)\n",
    "            \n",
    "            self.add_reaction([r1,r2])\n",
    "            self.timespan(numpy.linspace(0,100,101))"
   ]
  },
  {
   "cell_type": "code",
   "execution_count": 5,
   "metadata": {},
   "outputs": [
    {
     "name": "stdout",
     "output_type": "stream",
     "text": [
      "Adding rate rule  <gillespy2.gillespy2.RateRule object at 0x000001B0BF49C128>  to  Simple_Hybrid_Model\n"
     ]
    }
   ],
   "source": [
    "model = SimpleHybridModel()"
   ]
  },
  {
   "cell_type": "code",
   "execution_count": 6,
   "metadata": {},
   "outputs": [
    {
     "name": "stdout",
     "output_type": "stream",
     "text": [
      "reached increment\n",
      "reached increment\n",
      "reached increment\n",
      "reached increment\n",
      "reached increment\n",
      "reached increment\n",
      "reached increment\n",
      "reached increment\n",
      "reached increment\n",
      "reached increment\n",
      "reached increment\n",
      "reached increment\n",
      "reached increment\n",
      "reached increment\n",
      "reached increment\n",
      "reached increment\n",
      "reached increment\n",
      "reached increment\n",
      "reached increment\n",
      "reached increment\n",
      "reached increment\n",
      "reached increment\n",
      "reached increment\n",
      "reached increment\n",
      "reached increment\n",
      "reached increment\n",
      "reached increment\n",
      "reached increment\n",
      "reached increment\n",
      "reached increment\n",
      "reached increment\n",
      "reached increment\n",
      "reached increment\n",
      "reached increment\n",
      "reached increment\n",
      "reached increment\n",
      "reached increment\n",
      "reached increment\n",
      "reached increment\n",
      "reached increment\n",
      "reached increment\n",
      "reached increment\n",
      "reached increment\n",
      "reached increment\n",
      "reached increment\n",
      "reached increment\n",
      "reached increment\n",
      "reached increment\n",
      "reached increment\n",
      "reached increment\n",
      "reached increment\n",
      "reached increment\n",
      "reached increment\n",
      "reached increment\n",
      "reached increment\n",
      "reached increment\n",
      "reached increment\n",
      "reached increment\n",
      "reached increment\n",
      "reached increment\n",
      "reached increment\n",
      "reached increment\n",
      "reached increment\n",
      "reached increment\n",
      "reached increment\n",
      "reached increment\n",
      "reached increment\n",
      "reached increment\n",
      "reached increment\n",
      "reached increment\n",
      "reached increment\n",
      "reached increment\n",
      "reached increment\n",
      "reached increment\n",
      "reached increment\n",
      "reached increment\n",
      "reached increment\n",
      "reached increment\n",
      "reached increment\n",
      "reached increment\n",
      "reached increment\n",
      "reached increment\n",
      "reached increment\n",
      "reached increment\n",
      "reached increment\n",
      "reached increment\n",
      "reached increment\n",
      "reached increment\n",
      "reached increment\n",
      "reached increment\n",
      "reached increment\n",
      "reached increment\n",
      "reached increment\n",
      "reached increment\n",
      "reached increment\n",
      "reached increment\n",
      "reached increment\n",
      "reached increment\n",
      "reached increment\n",
      "reached increment\n",
      "Wall time: 2.56 s\n"
     ]
    }
   ],
   "source": [
    "%time results = model.run(solver=BasicTauHybridSolver(), show_labels=True, debug=False)"
   ]
  },
  {
   "cell_type": "code",
   "execution_count": 7,
   "metadata": {},
   "outputs": [
    {
     "data": {
      "text/plain": [
       "<matplotlib.legend.Legend at 0x1b0bf54f9b0>"
      ]
     },
     "execution_count": 7,
     "metadata": {},
     "output_type": "execute_result"
    },
    {
     "data": {
      "image/png": "[encoded data removed]",
      "text/plain": [
       "<matplotlib.figure.Figure at 0x1b0bf49c978>"
      ]
     },
     "metadata": {},
     "output_type": "display_data"
    }
   ],
   "source": [
    "plt.plot(results['time'], results['A'], label='A')\n",
    "plt.plot(results['time'], results['V'], label='V')\n",
    "plt.legend(loc='best')\n"
   ]
  },
  {
   "cell_type": "code",
   "execution_count": 8,
   "metadata": {},
   "outputs": [
    {
     "name": "stdout",
     "output_type": "stream",
     "text": [
      "7.108\n"
     ]
    }
   ],
   "source": [
    "times_1 = [8.1, 7.06, 7.13, 7.04, 6.94, 6.94, 7.07, 6.63, 6.94, 7.23 ]\n",
    "average_1 = sum(times_1) / len(times_1)\n",
    "print(average_1)"
   ]
  },
  {
   "cell_type": "code",
   "execution_count": 9,
   "metadata": {},
   "outputs": [
    {
     "name": "stdout",
     "output_type": "stream",
     "text": [
      "7.026000000000001\n"
     ]
    }
   ],
   "source": [
    "times_2 = [7.63, 6.98, 7.09, 7.12, 6.79, 6.75, 6.85, 7.1, 6.97, 6.98]\n",
    "average_2 = sum(times_2) / len(times_2)\n",
    "print(average_2)"
   ]
  },
  {
   "cell_type": "code",
   "execution_count": 10,
   "metadata": {},
   "outputs": [
    {
     "data": {
      "text/plain": [
       "1.1536297129994266"
      ]
     },
     "execution_count": 10,
     "metadata": {},
     "output_type": "execute_result"
    }
   ],
   "source": [
    "(1 - (average_2 / average_1)) * 100"
   ]
  },
  {
   "cell_type": "code",
   "execution_count": null,
   "metadata": {},
   "outputs": [],
   "source": []
  }
 ],
 "metadata": {
  "kernelspec": {
   "display_name": "Python 3",
   "language": "python",
   "name": "python3"
  },
  "language_info": {
   "codemirror_mode": {
    "name": "ipython",
    "version": 3
   },
   "file_extension": ".py",
   "mimetype": "text/x-python",
   "name": "python",
   "nbconvert_exporter": "python",
   "pygments_lexer": "ipython3",
   "version": "3.6.4"
  }
 },
 "nbformat": 4,
 "nbformat_minor": 2
}
